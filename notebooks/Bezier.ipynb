{
 "cells": [
  {
   "cell_type": "code",
   "execution_count": 1,
   "metadata": {
    "dotnet_interactive": {
     "language": "fsharp"
    },
    "vscode": {
     "languageId": "dotnet-interactive.fsharp"
    }
   },
   "outputs": [
    {
     "data": {
      "text/html": [
       "<div><div></div><div></div><div><strong>Installed Packages</strong><ul><li><span>SkiaSharp, 2.88.3</span></li><li><span>SkiaSharp.NativeAssets.Linux.NoDependencies, 2.88.3</span></li></ul></div></div>"
      ]
     },
     "metadata": {},
     "output_type": "display_data"
    },
    {
     "data": {
      "text/markdown": [
       "Loading extensions from `SkiaSharp.DotNet.Interactive.dll`"
      ]
     },
     "metadata": {},
     "output_type": "display_data"
    }
   ],
   "source": [
    "#r \"nuget: SkiaSharp, 2.88.3\"\n",
    "#r \"nuget: SkiaSharp.NativeAssets.Linux.NoDependencies, 2.88.3\"\n",
    "\n",
    "open SkiaSharp\n",
    "open System\n",
    "\n"
   ]
  },
  {
   "cell_type": "markdown",
   "metadata": {},
   "source": [
    "## 8 вариант"
   ]
  },
  {
   "cell_type": "markdown",
   "metadata": {},
   "source": [
    "### Первая часть"
   ]
  },
  {
   "cell_type": "code",
   "execution_count": 2,
   "metadata": {
    "dotnet_interactive": {
     "language": "fsharp"
    },
    "vscode": {
     "languageId": "dotnet-interactive.fsharp"
    }
   },
   "outputs": [],
   "source": [
    "let x0 = 201\n",
    "let y0 = 305\n",
    "let x1 = 428\n",
    "let y1 = 358\n",
    "let x2 = 371\n",
    "let y2 = 215\n",
    "let x3 = 143\n",
    "let y3 = 20\n",
    "let x4 = 305\n",
    "let y4 = 82\n",
    "let points = [x0, y0; x1, y1; x2, y2; x3, y3; x4, y4]\n"
   ]
  },
  {
   "cell_type": "code",
   "execution_count": 3,
   "metadata": {
    "dotnet_interactive": {
     "language": "fsharp"
    },
    "vscode": {
     "languageId": "dotnet-interactive.fsharp"
    }
   },
   "outputs": [],
   "source": [
    "let rec factorial n =\n",
    "    match n with\n",
    "    | 0 | 1 -> 1\n",
    "    | _ -> n * factorial(n - 1)\n",
    "\n",
    "let inline combination n k = factorial n / (factorial k * factorial (n-k))   \n",
    "\n",
    "let inline bezier pn t = \n",
    "    let n = List.length pn - 1 \n",
    "    let rec aux pn k =\n",
    "        match pn with\n",
    "        | [] -> 0.\n",
    "        | hd :: tl -> \n",
    "            (float hd) * \n",
    "            float (combination n k) * \n",
    "            Math.Pow(t, float k) *\n",
    "            Math.Pow(1. - t, float n - float k) +\n",
    "            aux tl (k + 1)\n",
    "    aux pn 0\n",
    "\n",
    "let inline bezierRange pn = \n",
    "    [for i in 0. .. 100. do bezier pn (i / 100.)]\n",
    "\n",
    "let inline bezierPointsRange pn =\n",
    "    let p1, p2 = List.unzip pn\n",
    "    List.zip (bezierRange p1) (bezierRange p2)"
   ]
  },
  {
   "cell_type": "code",
   "execution_count": 4,
   "metadata": {
    "dotnet_interactive": {
     "language": "fsharp"
    },
    "vscode": {
     "languageId": "dotnet-interactive.fsharp"
    }
   },
   "outputs": [
    {
     "data": {
      "text/html": [
       "<table><thead><tr><th><i>index</i></th><th>value</th></tr></thead><tbody><tr><td>0</td><td><div class=\"dni-plaintext\">0</div></td></tr><tr><td>1</td><td><div class=\"dni-plaintext\">1</div></td></tr><tr><td>2</td><td><div class=\"dni-plaintext\">2</div></td></tr><tr><td>3</td><td><div class=\"dni-plaintext\">3</div></td></tr></tbody></table>"
      ]
     },
     "metadata": {},
     "output_type": "display_data"
    }
   ],
   "source": [
    "[for i in 0 .. 3 do i]"
   ]
  },
  {
   "cell_type": "code",
   "execution_count": 5,
   "metadata": {
    "dotnet_interactive": {
     "language": "fsharp"
    },
    "vscode": {
     "languageId": "dotnet-interactive.fsharp"
    }
   },
   "outputs": [
    {
     "data": {
      "text/html": [
       "<div><img src=\"data:image/png;base64,iVBORw0KGgoAAAANSUhEUgAAAfQAAAH0CAYAAADL1t+KAAAABHNCSVQICAgIfAhkiAAAFC1JREFUeJzt3ety49axgNFG6ry3yCfn+WFBQ0EAiDv27r1WVSqVxBPLHg+/6UaT6l6v1ysAgKr97+4vAADYT9ABIAFBB4AEBB0AEhB0AEhA0AEgAUEHgAQEHQASEHQASEDQASABQQeABAQdABIQdABIQNABIAFBB4AEBB0AEhB0AEhA0Nmk67rouu7uLwOAb4LOaj8hf0R0T1EHKIGgs5uoA9xP0Fnt9XpFPH7/d92zi+fzecvXA0BE93q9Xnd/EdRrOJ0/3kr/9fV18VcD0C5BZ7dh1F9f//0j9T6xizvAuQSdQ4w9Rxd2gOsIOoeZi3pP3AHOIegcaknUe33chR1gP0HncGuiHmFqBziCoHOaqWO5OeIOsI2gc6otUY8QdoC1BJ3TbY16T9wBPhN0LrH2ufoUh3QA4wSdyxwV9QhTO8CQoHOpI6PeE3cAQecGZ0S9ZyUPtErQuc3eY7k5pnagNYLOrc6Mes/UDrRA0LndFVGPMLUDuQk6RTjzufoYcQeyEXSKcXXUe1byQAaCTlHuinqEqR2om6BTnDuj3hN3oDaCTrGuOpabI+xALQSdopUQ9Z64AyUTdIpXUtR7DumA0gg6VSgx6hGmdqAcgk41SjiWmyPuwJ0EnaqUHvUIYQfuIehUp4ao98QduIqgU6Waot5zSAecSdCpVo1RjzC1A+cQdKpX6gX8EuIOHEXQSaHmqPes5IE9BJ00MkQ9wtQObCPopJIl6j1xB5YSdNLJFvUIYQc+E3RSqvUCfglxB8YIOmlljnrPIR3QE3RSayHqEaZ2QNBpQCtR74k7tEnQaUbGY7k5wg5tEXSa0lrUe+IO+Qk6zWk16j2HdJCToNOkYdQf8WgucKZ2yEXQaZao/yPuUD9Bp2mi/peVPNRJ0GmeqI8ztUNdBB1C1D8xtUP5BB2+tfYBNFuY2qFcgg5vxqJuWh8n7lAWQYeBFqPe/f1LnvV6/fdj+lcPK3m4n6DDiBaivjbiSz0e4g53EHSYkDnqZ8V8zOPxTPH3DEon6DAja9SHQd/6KrDlNwZeceAcgg4LZHlb21EhX/PnmOPVB44j6LDQWNQj6nlWfEXMl/x5p3glgn0EHVbIEvW7ftWLO5xH0GGlWqP+HtNSftUvCXwpXyuUTtBhg7Hvqf58lnvNXWLMh8Qd9hF02KimqNcQ9HfiDuv97+4vAGo1/Jz37tnF19fXr49EZZvX69+/pnRd/68L31QPBTOhw05Tk3pEOc/Va5vQx0x3+7//wUsZrTOhw05Tk3pEmNYPtGRqh5YJOhxA1K/1L+ymc+hZucOBxtbvEXH7sVyGlTswz4QOBxqb1CPCsRxwOhM6nGBuUo+451jOlA65mdDhBHOTeoTn6sDxBB1OIurAlQQdTiTqwFU8Q4cLTD1Tj7j2At5zdMhL0OEiw6hHXP+2NkGHvAQdLvQp6hHnXsALOuTlGTpcaPhMPeLa5+rvEfc9TSAXQYeL3R11ICcrd7jJ3Po94rzn6sPJ3CsA5GBCh5vMTeoR531crIBDToION7or6kA+Vu5QgCXr94hjL+BdvEMuJnQowJJJPcKxHDBN0KEQV0fdW9ggFyt3KMyn9XvEcRfw1u6QhwkdCvNpUo8451jOlA51E3Qo0FVRN5VDHlbuULCl6/eI7RfwPmgGcjChQ8HGJvWhvcdyAg45CDoUbhj1san9yAt4z9KhTlbuUIlhyKem960X8C7eoW4mdKjEkkk94phjOVM61EfQoSJnRt1UDnWzcocKrVm/Ryy/gHfxDvUyoUOF1kzqEcuP5QQc6iXoUKkrou5ZOtTDyh0qt3T9HrH8At7FO9THhA6VWzqpRyw/ljOlQ30EHRI4I+q//v9EHYpn5Q6JrF2/R8xfwFu9Qz1M6JDI2kk9YvmxnCkdyibokMyRUTeVQz2s3CGpNev3iOkLeB82A3UwoUNSayb1iOljOQGHOgg6JHZG1D1LhzJZuUMDtqzfI35fwFu9Q9lM6NCALZN6xO9jOQGHsgk6NOKIqP/68VbvUBQrd2jM2vV7xO8LeB82A2UyoUPjPk3qEdPHcqZ0KIegQ2OWTORj+qibyqFMVu7QqC2r94h/z9Qfj38X8F5F4H4mdGjU2iO53pJPkwOuJ+jQsD1RfzzWfQtW4FxW7sDm9bsPm4FymNCBzZO6gEM5BB2IiGOi7lk63EfQgR9bo/7rx4g63ELQgV+2RH24ep/6uFjgPIIO/LF3Un88xj9ZDjiPoAOj1kZ9OKVPfVwscA5BBw4zPJATdbiOoAOT9q7eRR2u44NlgI/WfvDM2LdY7aM+9tGxwH4mdOCjPZN6H/c+5KZ1OIegA4usifrU3k/U4TxW7sAqa9bvY6v33vP5tH6HA5nQgVW2rt+HnyDnWA6OJejAakuj/mn/J+pwHCt3YLP3kE+t3pd8i1UX8LCfCR04xNYpPcKxHBxB0IHNtqzep74bm6jDPlbuwG5LLt+XrN57LuBhPRM6sNuSSX3N6OBYDtYzoQOH+TSpr5nSIxzLwRomdOAwnyb1YcCnnqf3PFeH5QQdONSnb9yydico6rCMoAOn+vRJcp+m9AhRhyU8QwdOseZ5+ppXIRfwMM6EDpxizWe+L5nSey7gYZwJHTjV3KS+9ur9nQt4+M2EDpxqblJ/D7hjOdhH0IHTfbp8j/hvWl+zeo8QdXhn5Q5cYunqfesrkmM5WmdCBy6x9Ehu7ZTecyxH6wQduMxU1I/aE4o6LbNyBy43tX4/YvUe4QKeNpnQgcstWb9vXb1HOJajTYIO3GLs8v3IfaGo0xord+A2Y6v3PR82M8UFPC0woQO3GVu9nzFiOJajBYIO3OpT1Pc8S38n6mRn5Q4U4c9h3OP3S9NRr1Qu4MnKhA4UYTipnzVqOJYjK0EHijSc2I9avUeIOjlZuQNFmVu9n/Fq5QKeLEzoQFHmvjPbkVN6z7EcWQg6UJxfUX+ct3rviToZWLkDRbp69R7hAp66mdCBIl29eo9wLEfdBB0o1tzq/SyiTq2s3IHi/azfT/qwmSku4KmJCR0o3s+kftGU3nMsR00EHajLW9TPepb+TtSphZU7UI27Vu8RLuApnwkdqMZdq/cIx3KUT9CBqoy9ne2K1XuEqFM2K3egOmOr96tfyVzAUxoTOlCdO6f0nmM5SiPoQJVeX69bnqW/E3VKYuUOVG04md/xiuYCnhKY0IG63TylRziWowyCDlRtuHq/+ll6T9S5m5U7kEIJq/eeC3juYEIHcihg9d5zLMcdTOhAGiVN6REmda4l6EAq71Ev4dXNBTxXsXIH0rrrQO6dYzmuIuhAKsOp/OdjYm8k6lzByh1I589k/uhGPy72Dp6rcxYTOpBOyWOKC3jOIuhAfo9XEav3nqhzBit3IK1fq/fv96mXsnqPcAHPsUzoQBse5YS851iOIwk6kNbY/rGk1XuEqHMcK3cgtbGL94iyVu89F/DsYUIHUqtpZHEsxx6CDrTl+1l6aav3nqizlZU70ITSL96HXMCzlgkdaE/hU3qEYznWE3SgCVO7SFEnCyt3oBk1XbwPuYDnExM60Iwap/SeYzk+EXSgXW+fHifq1M7KHWjO2MV7RB2r9wgX8IwzoQNtq2xKj3AsxzhBB5qTYS/5HvWu66L7c/FHa6zcgSZNXbxH1LN6j4joui4ej0c8Ho+IiPCS3i5BB5o19Sw9op6od10Xv75SL+nNsnIHiCjy+6UvYSajJ+hAs+ZaWMuB3B+epTdL0AG+1bJm/8OUTgg60Lj3Fg6H22qndJok6ABvqp3S31m7N0nQAd5UO6VbuzdP0IHmDVuYYkqnOYIOMNB1v6Ne5ZRu7d4cQQeIzxvraqJOswQdYILVOzURdIBvnzbWVUzp1u7NEnSAGaZ0aiHoABOqndJpkqADvBk7jqtuSrd2b5KgA6xkSqdEgg4wMDbgVjel0xxBB9ig+Cnd2r05gg6wkCmdkgk6wAgDLrURdIAVqvyM9wi/K2mAoAMsUGUPfUvVpgg6wISpHlY7pZOaoAM04vl83v0lcKLu9bKTAZgyXLX3r5jDybzYC/ipvwDSMaEDzFiydi/a4C/AlJ6XoANAAoIOsJHjOEoi6AAfZPqQma+vL2v3pAQd4CDFTumZfkfCJEEH2KFfu1dzJBem9KwEHWClsSG32OmcZgg6wAJzb992HEcJBB2gQdbu+Qg6QAscxqUn6AAb/PlE1QrX7qb0XAQdYCEfg07JBB0AEhB0gBNYu3M1QQc4SE0fLkM+gg6wQsZjcVN6DoIO0IqMvxvhh6ADHKjGt6+Rg6ADYO2egKADQAKCDkBEmNJrJ+gAK7kto0SCDnAwh3HcQdAB+GHtXi9BB4AEBB2AX0zpdRJ0AEhA0AEgAUEHOEHxl+6v+e8MZ+1eH0EHaJE30Kcj6AAnq/X7pJvS6yLoACcrcuVOOoIO0Ir3NfuHZ+jUR9ABmGTtXg9BB4AEBB2AWab0Ogg6wA4eRVMKQQfYwdu5KYWgA7Rg54W7tXv5BB1gpSVt9N5zriboACer9ZPihkzpZRN0AEhA0AGy8wlxTRB0gBVav2q3di+XoANsZNilJIIOcLD3C/fbD+JOWLeb0ssk6AALtb5up2yCDrBBFet2vwNpiqADHKiodfu7g38HYu1eHkEHWKC6d36Zzpsj6AAHKfbjXk/6HYgpvSyCDvDBlmH31nW76bxJgg6wQvHfjGUY8yqeD3AEQQeYseXZeTHHcBfE3Nq9HIIOMGHp5rrY6ZymCDrAiK2b69um8xtX7ab0Mgg6wAdzbSzifeeemxOCDvDH0ufmRcQcvgk6wJvqn5vfNJ1bu99P0AG+LW3jMOZW7ZRA0AFCzI9gSr/X/939BQDcaWzFXnTM13zBNMWEDjRLzMmke7380wBTuu8XUL9M8lnaxrHjNzGf93w+4+vr6+4vozlW7jCh+3kBfZX4uJKN9kzlEWJOuUzoMOE96J/4VVS+qbejLZ3KI26IecUhN6Vfz4QOE16v11vU51X8uptempBH+IeKWYIOM8YWWIs/eETkbzX38zT8eZj7kJgiYu4fHBawcocD7PkmV34FHufTz0N1IY+o+h8Qa/drmdDhAKOheCx7IU74On6pJb+Zev97+ekjW4WcWpnQ4SJrIj/Hr9jlG5H+79WSz12/NORrngdUzpR+HRM6XOT19YoYvq51XXTxinjsn+h//jy5erD6ccZ7xLsFn0Iq5GQh6HCn1+v7TXFvse+66B6xeZpfu4IuxZ47hHj8+8FVRTyizJ8MqmTlDjX4jsKe0B9t9G1fV31H0cf6P9FlEV/7PKAB1u7XMKFDDV4/c/zPJP98PuPr8YiI79BHXBr7y+IdkSPgEU1FnOuZ0CGR/ltX9qHvde//sZAJ/48N0e4VGe+el9iIMKVfwYQOify8YH7/ex/4R/+/Px4RMR6lX9FfYuw3BjuivETR4X4n4txA0CGx4UQ0di/W/zGv1RF7O0R7rPyh3179j7sigGc+IxBwCmDlDo3rp/je5Fr00ofmhfJyuYu1+7lM6NC4P1P8VOCXxCxL9IWbCpnQgVnDwEfMTPFbXfEbAS91RTCln8eEDswam+AXr+mXElvYTdCBVcbifXjggdWs3IHDCTxzrN3PYUIHDvfp0G7sjwH2MaEDtzDFt82UfjwTOnCLxW+XAxYRdKAI1vSwj5U7UAWBz8fa/VgmdKAK3i4H80zoQBoCX5efb/fr5+kQgg6kZU1fPmv341i5A2lZ09MSEzrQNIG/nyn9GCZ0oGneLkcWJnSAGQJ/PsdxxxB0gJWs6Y9n7b6flTvASj62lhKZ0AEOZk2/jSl9HxM6wMG8XY47mNABbiDwfzmO20fQAQpgTf8fa/ftrNwBCjB2aGeKZw0TOkAlWgm8KX0bEzpAJbxdjjkmdIAksjyHdxy3jaADJFbrFG/tvp6VO0Bi1vTtMKEDNKzkNb0pfR0TOkDDvF0uDxM6ALPuCrzjuHUEHYBVrgy8tftyVu4ArPLp0G7sj+F8JnQADnfkFG9KX8aEDsDhvF3ueiZ0AC63Zk3vOG4ZQQfgdp8C/3w+4/F4hGRNs3IH4HZj0/dY5LuuE/UJJnQAitZ13a//LFvj/nf3FwAAc94DLubTrNwBKJ6Qf2ZCB4AEBB0AEhB0AEhA0AEgAUEHgAQEHQASEHQASEDQASABQQeABAQdABIQdABIQNABIAFBB4AEBB0AEhB0AEhA0AEgAUEHgAQEHQASEHQASEDQASABQQeABAQdABIQdABIQNABIAFBB4AEBB0AEhB0AEhA0AEgAUEHgAQEHQASEHQASEDQASABQQeABAQdABIQdABIQNABIAFBB4AEBB0AEhB0AEhA0AEgAUEHgAQEHQASEHQASEDQASABQQeABAQdABIQdABIQNABIAFBB4AEBB0AEhB0AEhA0AEgAUEHgAQEHQASEHQASEDQASABQQeABAQdABIQdABIQNABIAFBB4AEBB0AEhB0AEhA0AEgAUEHgAQEHQASEHQASEDQASABQQeABAQdABIQdABIQNABIAFBB4AEBB0AEhB0AEhA0AEgAUEHgAQEHQASEHQASEDQASABQQeABAQdABIQdABIQNABIAFBB4AEBB0AEhB0AEhA0AEgAUEHgAQEHQASEHQASEDQASABQQeABAQdABIQdABIQNABIAFBB4AEBB0AEhB0AEhA0AEgAUEHgAQEHQASEHQASEDQASABQQeABAQdABIQdABIQNABIAFBB4AEBB0AEhB0AEhA0AEgAUEHgAQEHQASEHQASEDQASABQQeABAQdABIQdABIQNABIAFBB4AEBB0AEhB0AEhA0AEgAUEHgAQEHQASEHQASEDQASABQQeABAQdABIQdABIQNABIAFBB4AEBB0AEhB0AEhA0AEgAUEHgAQEHQASEHQASOD/AdBQAdD74PIIAAAAAElFTkSuQmCC\"></img></div>"
      ]
     },
     "metadata": {},
     "output_type": "display_data"
    }
   ],
   "source": [
    "let secondOrderBezier = List.take 3 points |> bezierPointsRange\n",
    "let thirdOrderBezier = List.take 4 points |> bezierPointsRange\n",
    "let fourthOrdderBezier = List.take 5 points |> bezierPointsRange\n",
    "\n",
    "let info = SKImageInfo(500, 500) ;\n",
    "let surface = SKSurface.Create(info);\n",
    "let canvas = surface.Canvas;\n",
    "\n",
    "let inline drawLines pn color width = \n",
    "    for i in 0 .. List.length pn - 2 do\n",
    "        let x1, y1 = pn[i] \n",
    "        let x2, y2 = pn[i + 1]\n",
    "        canvas.DrawLine(float32 x1, float32 y1, float32 x2, float32 y2, SKPaint(Color=color, StrokeWidth=width))\n",
    "canvas.Clear(SKColors.White);\n",
    "for x, y in points do\n",
    "    canvas.DrawCircle(float32 x, float32 y, 1.8f, SKPaint(Color=SKColors.Black))\n",
    "\n",
    "drawLines points SKColors.Gray 1.0f\n",
    "\n",
    "drawLines secondOrderBezier SKColors.Red 3.f\n",
    "drawLines thirdOrderBezier SKColors.Green 3.f\n",
    "drawLines fourthOrdderBezier SKColors.Blue 3.f\n",
    "surface.Snapshot()\n",
    "surface.Snapshot().Display();"
   ]
  },
  {
   "cell_type": "markdown",
   "metadata": {},
   "source": [
    "### Вторая часть"
   ]
  },
  {
   "cell_type": "code",
   "execution_count": 6,
   "metadata": {
    "dotnet_interactive": {
     "language": "fsharp"
    },
    "vscode": {
     "languageId": "dotnet-interactive.fsharp"
    }
   },
   "outputs": [],
   "source": [
    "let a1, a2 = points[3]\n",
    "let b = 131.6f, 10.25f\n",
    "let c = 30.f, 4.f\n",
    "let d = 131.f, 215.f\n",
    "let firstPoints = List.take 4 points |> List.map (fun (a1, a2) -> float32 a1, float32 a2)\n",
    "let secondPoints = [float32 a1, float32 a2; b; c; d] "
   ]
  },
  {
   "cell_type": "code",
   "execution_count": 7,
   "metadata": {
    "dotnet_interactive": {
     "language": "fsharp"
    },
    "vscode": {
     "languageId": "dotnet-interactive.fsharp"
    }
   },
   "outputs": [
    {
     "data": {
      "text/html": [
       "<div><img src=\"data:image/png;base64,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\"></img></div>"
      ]
     },
     "metadata": {},
     "output_type": "display_data"
    }
   ],
   "source": [
    "canvas.Clear(SKColors.White);\n",
    "let points2 = firstPoints @ secondPoints\n",
    "let bezier1 = bezierPointsRange firstPoints\n",
    "let bezier2 = bezierPointsRange secondPoints\n",
    "\n",
    "for x, y in points2 do\n",
    "    canvas.DrawCircle(float32 x, float32 y, 3.f, SKPaint(Color=SKColors.Black))\n",
    "\n",
    "drawLines points2 SKColors.Black 1.f\n",
    "drawLines bezier1 SKColors.Green 3.f\n",
    "drawLines bezier2 SKColors.Blue 3.f\n",
    "\n",
    "surface.Snapshot().Display();\n"
   ]
  }
 ],
 "metadata": {
  "kernelspec": {
   "display_name": ".NET (F#)",
   "language": "F#",
   "name": ".net-fsharp"
  },
  "language_info": {
   "name": "F#"
  }
 },
 "nbformat": 4,
 "nbformat_minor": 2
}
