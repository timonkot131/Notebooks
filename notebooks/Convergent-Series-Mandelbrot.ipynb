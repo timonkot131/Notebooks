{
 "cells": [
  {
   "cell_type": "code",
   "execution_count": 23,
   "metadata": {
    "dotnet_interactive": {
     "language": "fsharp"
    },
    "polyglot_notebook": {
     "language": "fsharp"
    },
    "vscode": {
     "languageId": "dotnet-interactive.fsharp"
    }
   },
   "outputs": [],
   "source": [
    "let inline convIterations (x: float) (y: float) =\n",
    "    let max = 250\n",
    "    let mutable n = 0\n",
    "    let mutable zx = x\n",
    "    let cx = x\n",
    "    let mutable zy = y\n",
    "    let cy = y\n",
    "    while n <= max && (zx * zx) + (zy * zy) < 4 do\n",
    "        let zyNew = (2. * zx * zy) + cy\n",
    "        let zxNew = (zx * zx) - (zy * zy) + cx\n",
    "        zx <- zxNew\n",
    "        zy <- zyNew\n",
    "        n <- n + 1\n",
    "    if n > max then None else Some n\n",
    "\n",
    "convIterations -1.37 -0.911\n",
    "\n",
    "let mapIters n = \n",
    "    match n with\n",
    "    | None -> \"Ряд сходится\"\n",
    "    | Some x -> $\"Ряд расходится {x}\""
   ]
  },
  {
   "cell_type": "markdown",
   "metadata": {},
   "source": [
    "### Быстро расходится"
   ]
  },
  {
   "cell_type": "code",
   "execution_count": 24,
   "metadata": {
    "dotnet_interactive": {
     "language": "fsharp"
    },
    "vscode": {
     "languageId": "dotnet-interactive.fsharp"
    }
   },
   "outputs": [
    {
     "data": {
      "text/html": [
       "<table><thead><tr><th><i>index</i></th><th>value</th></tr></thead><tbody><tr><td>0</td><td>Ряд расходится 2</td></tr><tr><td>1</td><td>Ряд расходится 2</td></tr><tr><td>2</td><td>Ряд расходится 1</td></tr></tbody></table>"
      ]
     },
     "metadata": {},
     "output_type": "display_data"
    }
   ],
   "source": [
    "[ \n",
    "  convIterations -1.37 -0.911\n",
    "  convIterations -0.68 1.16 \n",
    "  convIterations -1 1.29\n",
    "] |> List.map mapIters"
   ]
  },
  {
   "cell_type": "markdown",
   "metadata": {},
   "source": [
    "### Ряд сходится"
   ]
  },
  {
   "cell_type": "code",
   "execution_count": 25,
   "metadata": {
    "dotnet_interactive": {
     "language": "fsharp"
    },
    "vscode": {
     "languageId": "dotnet-interactive.fsharp"
    }
   },
   "outputs": [
    {
     "data": {
      "text/html": [
       "<table><thead><tr><th><i>index</i></th><th>value</th></tr></thead><tbody><tr><td>0</td><td>Ряд сходится</td></tr><tr><td>1</td><td>Ряд сходится</td></tr><tr><td>2</td><td>Ряд сходится</td></tr></tbody></table>"
      ]
     },
     "metadata": {},
     "output_type": "display_data"
    }
   ],
   "source": [
    "[ \n",
    "  convIterations -1. 0.\n",
    "  convIterations 0.01 0.01 \n",
    "  convIterations -0.9 -0.1\n",
    "] |> List.map mapIters"
   ]
  },
  {
   "cell_type": "markdown",
   "metadata": {},
   "source": [
    "### Медленно расходится"
   ]
  },
  {
   "cell_type": "code",
   "execution_count": 26,
   "metadata": {
    "dotnet_interactive": {
     "language": "fsharp"
    },
    "vscode": {
     "languageId": "dotnet-interactive.fsharp"
    }
   },
   "outputs": [
    {
     "data": {
      "text/html": [
       "<table><thead><tr><th><i>index</i></th><th>value</th></tr></thead><tbody><tr><td>0</td><td>Ряд расходится 14</td></tr><tr><td>1</td><td>Ряд расходится 16</td></tr><tr><td>2</td><td>Ряд расходится 13</td></tr></tbody></table>"
      ]
     },
     "metadata": {},
     "output_type": "display_data"
    }
   ],
   "source": [
    "[\n",
    "    convIterations -0.82 0.22\n",
    "    convIterations -1.27 -0.09\n",
    "    convIterations -0.88 0.27\n",
    "] |> List.map mapIters"
   ]
  }
 ],
 "metadata": {
  "kernelspec": {
   "display_name": ".NET (F#)",
   "language": "F#",
   "name": ".net-fsharp"
  },
  "language_info": {
   "name": "F#"
  }
 },
 "nbformat": 4,
 "nbformat_minor": 2
}
