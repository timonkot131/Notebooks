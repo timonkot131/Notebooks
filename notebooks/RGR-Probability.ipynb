{
 "cells": [
  {
   "cell_type": "code",
   "execution_count": 1208,
   "id": "d8228c0d-a80e-4a6f-a0e3-319379278585",
   "metadata": {},
   "outputs": [
    {
     "data": {
      "text/plain": [
       "rnd (generic function with 1 method)"
      ]
     },
     "execution_count": 1208,
     "metadata": {},
     "output_type": "execute_result"
    }
   ],
   "source": [
    "using Plots;\n",
    "using SpecialFunctions;\n",
    "using Latexify;\n",
    "\n",
    "V = 15\n",
    "K = 5\n",
    "H = 6\n",
    "M = 5\n",
    "P = 4\n",
    "#V = 0\n",
    "#M = 4\n",
    "#P = 2\n",
    "\n",
    "    \n",
    "function comb(m, n)\n",
    "    return factorial(n) / (factorial(m) * factorial(n-m))\n",
    "end\n",
    "\n",
    "rnd(x) = round(x, digits=3)"
   ]
  },
  {
   "cell_type": "markdown",
   "id": "6a9547ec-ab15-4161-ad80-284c896b0693",
   "metadata": {},
   "source": [
    "### Задача 1"
   ]
  },
  {
   "cell_type": "code",
   "execution_count": 1209,
   "id": "322e534a-a7e1-45f9-8b30-8f91efad976b",
   "metadata": {},
   "outputs": [
    {
     "data": {
      "text/plain": [
       "462.0"
      ]
     },
     "execution_count": 1209,
     "metadata": {},
     "output_type": "execute_result"
    }
   ],
   "source": [
    "summ = H + K \n",
    "n = comb(M, summ)"
   ]
  },
  {
   "cell_type": "code",
   "execution_count": 1210,
   "id": "35f1141d-c09c-462e-af1c-6868627cc276",
   "metadata": {},
   "outputs": [
    {
     "name": "stdout",
     "output_type": "stream",
     "text": [
      "В урне содержится 5 черных и 6 белых шаров. Случайным образом вынимают 5 шаров. Найти вероятность того, что среди них имеется:\n",
      "а) Р белых шаров; б) меньше, чем Р, белых шаров; в) хотя бы один белый шар."
     ]
    }
   ],
   "source": [
    "print(\"В урне содержится $K черных и $H белых шаров. Случайным образом вынимают $M шаров. Найти вероятность того, что среди них имеется:\\nа) Р белых шаров; б) меньше, чем Р, белых шаров; в) хотя бы один белый шар.\")"
   ]
  },
  {
   "cell_type": "markdown",
   "id": "f6ea04cf-5c70-4de8-b1ac-e6463ebd4d3b",
   "metadata": {},
   "source": [
    "#### a)"
   ]
  },
  {
   "cell_type": "code",
   "execution_count": 1211,
   "id": "b96f18b6-3f4d-4e24-af81-dc2e985b3e2e",
   "metadata": {},
   "outputs": [
    {
     "name": "stdout",
     "output_type": "stream",
     "text": [
      "А1 — среди вынутых шаров 4 белых. Значит, среди вынутых шаров 4 белых и 1 черных. Используя правило умножения, получаем"
     ]
    },
    {
     "data": {
      "text/latex": [
       "$m = C_{6}^{4} \\cdot C_{5}^{1} = 75.0$"
      ],
      "text/plain": [
       "L\"$m = C_{6}^{4} \\cdot C_{5}^{1} = 75.0$\""
      ]
     },
     "metadata": {},
     "output_type": "display_data"
    },
    {
     "data": {
      "text/latex": [
       "$P\\left( A_{1} \\right) = \\frac{75.0}{462.0}$"
      ],
      "text/plain": [
       "L\"$P\\left( A_{1} \\right) = \\frac{75.0}{462.0}$\""
      ]
     },
     "metadata": {},
     "output_type": "display_data"
    },
    {
     "name": "stdout",
     "output_type": "stream",
     "text": [
      "A1 = 0.16233766233766234"
     ]
    }
   ],
   "source": [
    "print(\"А1 — среди вынутых шаров $P белых. Значит, среди вынутых шаров $P белых и $(M-P) черных. Используя правило умножения, получаем\")\n",
    "\n",
    "m1 = comb(P,H) #Сочетание из P по H\n",
    "m2 = comb(M - P, K) \n",
    "m = m1 * m2\n",
    "\"m=C_$H^$P*C_$K^$(M-P)=$m\" |> latexify |> display\n",
    "\"P(A_1)=$m/$n\"             |> latexify |> display\n",
    "A1 = m / n\n",
    "print(\"A1 = $A1\")\n"
   ]
  },
  {
   "cell_type": "markdown",
   "id": "69d77ef0-798e-4e8a-ad04-4e393b8bd7b3",
   "metadata": {},
   "source": [
    "#### б)"
   ]
  },
  {
   "cell_type": "code",
   "execution_count": 1212,
   "id": "71127533-68c3-4b11-a28b-86e0bc0d6809",
   "metadata": {},
   "outputs": [
    {
     "data": {
      "text/plain": [
       "0.8246753246753247"
      ]
     },
     "execution_count": 1212,
     "metadata": {},
     "output_type": "execute_result"
    }
   ],
   "source": [
    "# В случае с условием у нас возникает множество выборок. \n",
    "# Так как вероятности несовместные, их следует просумировать\n",
    "[comb(i, H) * comb(M - i,K) / n for i in range(P-1,0,step=-1)] |> sum"
   ]
  },
  {
   "cell_type": "markdown",
   "id": "72c1721d-d95c-4634-9561-cf367424a045",
   "metadata": {},
   "source": [
    "#### в)"
   ]
  },
  {
   "cell_type": "code",
   "execution_count": 1213,
   "id": "a0faa5c9-904e-4237-9944-e28c8845785a",
   "metadata": {},
   "outputs": [
    {
     "data": {
      "text/plain": [
       "0.9978354978354979"
      ]
     },
     "execution_count": 1213,
     "metadata": {},
     "output_type": "execute_result"
    }
   ],
   "source": [
    "# Идентично прошлому примеру, также присутствует условие, решение аналогично\n",
    "[comb(i, H) * comb(M - i,K) / n for i in 1:M] |> sum"
   ]
  },
  {
   "cell_type": "markdown",
   "id": "91e840d3-25d6-47f9-9a6a-380ceacf697d",
   "metadata": {},
   "source": [
    "### Задача 2"
   ]
  },
  {
   "cell_type": "code",
   "execution_count": 1214,
   "id": "4af34000-6cec-4175-89cc-3c9aa0c65069",
   "metadata": {},
   "outputs": [
    {
     "data": {
      "text/plain": [
       "¬ (generic function with 1 method)"
      ]
     },
     "execution_count": 1214,
     "metadata": {},
     "output_type": "execute_result"
    }
   ],
   "source": [
    "k = abs(14.9 - V) / 100\n",
    "p1 = 1 - k\n",
    "p2 = 0.9 - k\n",
    "p3 = 0.85 - k\n",
    "\n",
    "function ¬(m) \n",
    "    return 1 - m\n",
    "end"
   ]
  },
  {
   "cell_type": "code",
   "execution_count": 1215,
   "id": "3ed1de58-4010-43cd-ae8c-2616c5e7986a",
   "metadata": {},
   "outputs": [
    {
     "name": "stdout",
     "output_type": "stream",
     "text": [
      "Устройство состоит из трех независимых элементов, работающих в течение времени Т безотказно соответственно с вероятностями 0.999 , 0.899 и 0.849. Найти вероятность того, что за время Т выйдет из строя: а) только один элемент; б) хотя бы один элемент."
     ]
    }
   ],
   "source": [
    "print(\"Устройство состоит из трех независимых элементов, работающих в течение времени Т безотказно соответственно с вероятностями $(rnd(p1)) , $(rnd(p2)) и $(rnd(p3)). Найти вероятность того, что за время Т выйдет из строя: а) только один элемент; б) хотя бы один элемент.\")"
   ]
  },
  {
   "cell_type": "markdown",
   "id": "7759ef13-0ebe-4848-b32a-6a7082ecf219",
   "metadata": {},
   "source": [
    "#### a)"
   ]
  },
  {
   "cell_type": "code",
   "execution_count": 1216,
   "id": "1cf492e9-061d-493a-8152-3cd170c439fc",
   "metadata": {},
   "outputs": [
    {
     "data": {
      "text/plain": [
       "0.222039753"
      ]
     },
     "execution_count": 1216,
     "metadata": {},
     "output_type": "execute_result"
    }
   ],
   "source": [
    "# В данной задаче даны только вероятности\n",
    "# Умножение соотвествует \"и\", а сложение \"или\"\n",
    "A = (¬p1 * p2 * p3) + (p1 * ¬p2 * p3) + (p1 * p2 * ¬p3)"
   ]
  },
  {
   "cell_type": "markdown",
   "id": "f98dc513-7226-4c6c-a0c2-5bf749faaf0d",
   "metadata": {},
   "source": [
    "#### б)"
   ]
  },
  {
   "cell_type": "code",
   "execution_count": 1217,
   "id": "f0230402-0f5e-4c5f-9818-ff4b1b23211e",
   "metadata": {},
   "outputs": [
    {
     "data": {
      "text/plain": [
       "0.23751225099999995"
      ]
     },
     "execution_count": 1217,
     "metadata": {},
     "output_type": "execute_result"
    }
   ],
   "source": [
    "# Для того, чтобы узнать, выйдет ли из строя хотя-бы один элемент\n",
    "# следует инвертировать произведение вероятностей исправности всех элементов\n",
    "A = p1 * p2 * p3 \n",
    "¬A"
   ]
  },
  {
   "cell_type": "markdown",
   "id": "5acce3b5-aad3-4614-9bc3-96b2c3f9fb4d",
   "metadata": {},
   "source": [
    "### Задача 3"
   ]
  },
  {
   "cell_type": "code",
   "execution_count": 1218,
   "id": "f66f12f7-2af7-412a-b332-2aebe0b2abf5",
   "metadata": {},
   "outputs": [
    {
     "data": {
      "text/plain": [
       "4"
      ]
     },
     "execution_count": 1218,
     "metadata": {},
     "output_type": "execute_result"
    }
   ],
   "source": [
    "k = abs(14-V) \n",
    "p1 = 0.95 - k / 100 #шанс попадания с оптикой \n",
    "p2 = 0.6 - k / 100 \n",
    "R = 5 + k #Общее количество винтовок\n",
    "L = V > 14 ? 4 : 3 #Винтовки с оптическим прицелом"
   ]
  },
  {
   "cell_type": "code",
   "execution_count": 1219,
   "id": "12e853dc-38d1-43fa-9d73-64b1d19cc878",
   "metadata": {},
   "outputs": [
    {
     "name": "stdout",
     "output_type": "stream",
     "text": [
      "В пирамиде стоят 6 винтовок, из них 4, с оптическим прицелом. Стрелок, стреляя из винтовки с оптическим прицелом, может поразить мишень с вероятностью 0.94, а, стреляя из винтовки без оптического прицела, — с вероятностью 0.59. Найти вероятность того, что стрелок поразит мишень, стреляя из случайно взятой винтовки."
     ]
    }
   ],
   "source": [
    "print(\"В пирамиде стоят $R винтовок, из них $L, с оптическим прицелом. Стрелок, стреляя из винтовки с оптическим прицелом, может поразить мишень с вероятностью $(rnd(p1)), а, стреляя из винтовки без оптического прицела, — с вероятностью $(rnd(p2)). Найти вероятность того, что стрелок поразит мишень, стреляя из случайно взятой винтовки.\")"
   ]
  },
  {
   "cell_type": "code",
   "execution_count": 1220,
   "id": "73880807-08de-4ed5-b8c0-afa15eab7fe4",
   "metadata": {},
   "outputs": [
    {
     "data": {
      "text/plain": [
       "0.8233333333333333"
      ]
     },
     "execution_count": 1220,
     "metadata": {},
     "output_type": "execute_result"
    }
   ],
   "source": [
    "B1 = L / R # событие получение оптической винтовки\n",
    "B2 = (R - L) / R # событие получения обычной винтой\n",
    "\n",
    "# Следует использовать формулу полной вероятности,\n",
    "# так как шанс попадания из винтовки зависит от вероятности, какую винтовку возьмет стрелок\n",
    "A = B1 * p1 + B2 * p2 "
   ]
  },
  {
   "cell_type": "markdown",
   "id": "5b515118-fad8-4402-b3d0-afe3b8a3dded",
   "metadata": {},
   "source": [
    "### Задача 4\n"
   ]
  },
  {
   "cell_type": "code",
   "execution_count": 1221,
   "id": "04897e13-c874-4c18-b335-ee1bf4876340",
   "metadata": {},
   "outputs": [
    {
     "data": {
      "text/plain": [
       "0.4897959183673469"
      ]
     },
     "execution_count": 1221,
     "metadata": {},
     "output_type": "execute_result"
    }
   ],
   "source": [
    "k = abs(14-V)\n",
    "p1 = 0.99 - k / 100  #шанс успешной работы первой детали\n",
    "p2 = 0.9 - k / 100   #шанс успешной работы второй детали\n",
    "p3 = 0.85 - k / 100  #шанс успешной работы третьей детали\n",
    "M1 = 5 + k\n",
    "M2 = 20 - k\n",
    "M3 = 25 - k\n",
    "summ = M1 + M2 + M3 \n",
    "B1 = M1 / summ #вероятность достать первую деталь\n",
    "B2 = M2 / summ #вероятность достать вторую деталь\n",
    "B3 = M3 / summ #вероятность достать третию деталь"
   ]
  },
  {
   "cell_type": "code",
   "execution_count": 1222,
   "id": "e7a68a36-fa6c-472d-bbd6-0a46cfffa161",
   "metadata": {},
   "outputs": [
    {
     "name": "stdout",
     "output_type": "stream",
     "text": [
      "В монтажном цехе к устройству присоединяется электродвигатель. Электродвигатели поставляются тремя заводами-изготовителями. На складе имеются электродвигатели этих заводов соответственно в количестве 6, 19, 24 штук, которые могут безотказно работать до конца гарантийного срока с вероятностями соответственно 0.98 , 0.89 и 0.84. Рабочий берет случайно один электродвигатель и монтирует его к устройству. Найти вероятности того, что смонтированный и работающий безотказно до конца гарантийного срока электродвигатель поставлен соответственно первым, вторым или третьим заводом-изготовителем."
     ]
    }
   ],
   "source": [
    "print(\"В монтажном цехе к устройству присоединяется электродвигатель. Электродвигатели поставляются тремя заводами-изготовителями. На складе имеются электродвигатели этих заводов соответственно в количестве $M1, $M2, $M3 штук, которые могут безотказно работать до конца гарантийного срока с вероятностями соответственно $(rnd(p1)) , $(rnd(p2)) и $(rnd(p3)). Рабочий берет случайно один электродвигатель и монтирует его к устройству. Найти вероятности того, что смонтированный и работающий безотказно до конца гарантийного срока электродвигатель поставлен соответственно первым, вторым или третьим заводом-изготовителем.\")"
   ]
  },
  {
   "cell_type": "code",
   "execution_count": 1223,
   "id": "76326d8b-ac8a-46d7-abff-bd98a09f74a4",
   "metadata": {},
   "outputs": [
    {
     "data": {
      "text/plain": [
       "(0.13690337601862632, 0.3937136204889406, 0.46938300349243306)"
      ]
     },
     "execution_count": 1223,
     "metadata": {},
     "output_type": "execute_result"
    }
   ],
   "source": [
    "#воспользуемся формулой полной вероятности\n",
    "A = B1 * p1 + B2 * p2 + B3 * p3\n",
    "\n",
    "function bias(pH, pAH, pA)\n",
    "    return pH * pAH / pA\n",
    "end\n",
    "\n",
    "# Для нахождения вероятностей отказоустойчивости отдельного двигателя относительно общей вероятности\n",
    "# следует воспользоваться Формулой байеса\n",
    "B1A = bias(B1, p1, A)\n",
    "B2A = bias(B2, p2, A)\n",
    "B3A = bias(B3, p3, A)\n",
    "\n",
    "(B1A, B2A, B3A)"
   ]
  },
  {
   "cell_type": "markdown",
   "id": "9e0470a4-63c0-4a4a-9005-80a5dcf072b2",
   "metadata": {},
   "source": [
    "### Задача 5"
   ]
  },
  {
   "cell_type": "code",
   "execution_count": 1224,
   "id": "d0b0c171-0084-4562-ab92-3ba65ed2b3cd",
   "metadata": {},
   "outputs": [
    {
     "data": {
      "text/plain": [
       "0.44999999999999996"
      ]
     },
     "execution_count": 1224,
     "metadata": {},
     "output_type": "execute_result"
    }
   ],
   "source": [
    "n = \n",
    "    if          V <= 10 11\n",
    "    elseif 10 < V <= 20 10 \n",
    "    else                 9 end\n",
    "\n",
    "p = 0.3 + V / 100"
   ]
  },
  {
   "cell_type": "code",
   "execution_count": 1225,
   "id": "c3891bc7-186b-49e7-a5ad-7b66dbb6749f",
   "metadata": {},
   "outputs": [
    {
     "name": "stdout",
     "output_type": "stream",
     "text": [
      "В каждом из п независимых испытаний событие А происходит с постоянной вероятностью 0.44999999999999996. Вычислить все вероятности pk, k = 0, 1, 2, ... 10 , где k — частота события А."
     ]
    }
   ],
   "source": [
    "print(\"В каждом из п независимых испытаний событие А происходит с постоянной вероятностью $p. Вычислить все вероятности pk, k = 0, 1, 2, ... $n , где k — частота события А.\")"
   ]
  },
  {
   "cell_type": "code",
   "execution_count": 1226,
   "id": "f7984bb2-ebe4-47dd-b61c-16c489af7a3c",
   "metadata": {},
   "outputs": [
    {
     "name": "stdout",
     "output_type": "stream",
     "text": [
      "0:10"
     ]
    },
    {
     "data": {
      "image/png": "[encoded data removed]",
      "image/svg+xml": [
       "<?xml version=\"1.0\" encoding=\"utf-8\"?>\n",
       "<svg xmlns=\"http://www.w3.org/2000/svg\" xmlns:xlink=\"http://www.w3.org/1999/xlink\" width=\"600\" height=\"400\" viewBox=\"0 0 2400 1600\">\n",
       "<defs>\n",
       "  <clipPath id=\"clip550\">\n",
       "    <rect x=\"0\" y=\"0\" width=\"2400\" height=\"1600\"/>\n",
       "  </clipPath>\n",
       "</defs>\n",
       "<path clip-path=\"url(#clip550)\" d=\"M0 1600 L2400 1600 L2400 0 L0 0  Z\" fill=\"#ffffff\" fill-rule=\"evenodd\" fill-opacity=\"1\"/>\n",
       "<defs>\n",
       "  <clipPath id=\"clip551\">\n",
       "    <rect x=\"480\" y=\"0\" width=\"1681\" height=\"1600\"/>\n",
       "  </clipPath>\n",
       "</defs>\n",
       "<path clip-path=\"url(#clip550)\" d=\"M253.312 1427.5 L2352.76 1427.5 L2352.76 47.2441 L253.312 47.2441  Z\" fill=\"#ffffff\" fill-rule=\"evenodd\" fill-opacity=\"1\"/>\n",
       "<defs>\n",
       "  <clipPath id=\"clip552\">\n",
       "    <rect x=\"253\" y=\"47\" width=\"2100\" height=\"1381\"/>\n",
       "  </clipPath>\n",
       "</defs>\n",
       "<polyline clip-path=\"url(#clip552)\" style=\"stroke:#000000; stroke-linecap:round; stroke-linejoin:round; stroke-width:2; stroke-opacity:0.1; fill:none\" points=\"444.171,1427.5 444.171,47.2441 \"/>\n",
       "<polyline clip-path=\"url(#clip552)\" style=\"stroke:#000000; stroke-linecap:round; stroke-linejoin:round; stroke-width:2; stroke-opacity:0.1; fill:none\" points=\"635.029,1427.5 635.029,47.2441 \"/>\n",
       "<polyline clip-path=\"url(#clip552)\" style=\"stroke:#000000; stroke-linecap:round; stroke-linejoin:round; stroke-width:2; stroke-opacity:0.1; fill:none\" points=\"825.888,1427.5 825.888,47.2441 \"/>\n",
       "<polyline clip-path=\"url(#clip552)\" style=\"stroke:#000000; stroke-linecap:round; stroke-linejoin:round; stroke-width:2; stroke-opacity:0.1; fill:none\" points=\"1016.75,1427.5 1016.75,47.2441 \"/>\n",
       "<polyline clip-path=\"url(#clip552)\" style=\"stroke:#000000; stroke-linecap:round; stroke-linejoin:round; stroke-width:2; stroke-opacity:0.1; fill:none\" points=\"1207.6,1427.5 1207.6,47.2441 \"/>\n",
       "<polyline clip-path=\"url(#clip552)\" style=\"stroke:#000000; stroke-linecap:round; stroke-linejoin:round; stroke-width:2; stroke-opacity:0.1; fill:none\" points=\"1398.46,1427.5 1398.46,47.2441 \"/>\n",
       "<polyline clip-path=\"url(#clip552)\" style=\"stroke:#000000; stroke-linecap:round; stroke-linejoin:round; stroke-width:2; stroke-opacity:0.1; fill:none\" points=\"1589.32,1427.5 1589.32,47.2441 \"/>\n",
       "<polyline clip-path=\"url(#clip552)\" style=\"stroke:#000000; stroke-linecap:round; stroke-linejoin:round; stroke-width:2; stroke-opacity:0.1; fill:none\" points=\"1780.18,1427.5 1780.18,47.2441 \"/>\n",
       "<polyline clip-path=\"url(#clip552)\" style=\"stroke:#000000; stroke-linecap:round; stroke-linejoin:round; stroke-width:2; stroke-opacity:0.1; fill:none\" points=\"1971.04,1427.5 1971.04,47.2441 \"/>\n",
       "<polyline clip-path=\"url(#clip552)\" style=\"stroke:#000000; stroke-linecap:round; stroke-linejoin:round; stroke-width:2; stroke-opacity:0.1; fill:none\" points=\"2161.9,1427.5 2161.9,47.2441 \"/>\n",
       "<polyline clip-path=\"url(#clip552)\" style=\"stroke:#000000; stroke-linecap:round; stroke-linejoin:round; stroke-width:2; stroke-opacity:0.1; fill:none\" points=\"2352.76,1427.5 2352.76,47.2441 \"/>\n",
       "<polyline clip-path=\"url(#clip550)\" style=\"stroke:#000000; stroke-linecap:round; stroke-linejoin:round; stroke-width:4; stroke-opacity:1; fill:none\" points=\"253.312,1427.5 2352.76,1427.5 \"/>\n",
       "<polyline clip-path=\"url(#clip550)\" style=\"stroke:#000000; stroke-linecap:round; stroke-linejoin:round; stroke-width:4; stroke-opacity:1; fill:none\" points=\"444.171,1427.5 444.171,1408.6 \"/>\n",
       "<polyline clip-path=\"url(#clip550)\" style=\"stroke:#000000; stroke-linecap:round; stroke-linejoin:round; stroke-width:4; stroke-opacity:1; fill:none\" points=\"635.029,1427.5 635.029,1408.6 \"/>\n",
       "<polyline clip-path=\"url(#clip550)\" style=\"stroke:#000000; stroke-linecap:round; stroke-linejoin:round; stroke-width:4; stroke-opacity:1; fill:none\" points=\"825.888,1427.5 825.888,1408.6 \"/>\n",
       "<polyline clip-path=\"url(#clip550)\" style=\"stroke:#000000; stroke-linecap:round; stroke-linejoin:round; stroke-width:4; stroke-opacity:1; fill:none\" points=\"1016.75,1427.5 1016.75,1408.6 \"/>\n",
       "<polyline clip-path=\"url(#clip550)\" style=\"stroke:#000000; stroke-linecap:round; stroke-linejoin:round; stroke-width:4; stroke-opacity:1; fill:none\" points=\"1207.6,1427.5 1207.6,1408.6 \"/>\n",
       "<polyline clip-path=\"url(#clip550)\" style=\"stroke:#000000; stroke-linecap:round; stroke-linejoin:round; stroke-width:4; stroke-opacity:1; fill:none\" points=\"1398.46,1427.5 1398.46,1408.6 \"/>\n",
       "<polyline clip-path=\"url(#clip550)\" style=\"stroke:#000000; stroke-linecap:round; stroke-linejoin:round; stroke-width:4; stroke-opacity:1; fill:none\" points=\"1589.32,1427.5 1589.32,1408.6 \"/>\n",
       "<polyline clip-path=\"url(#clip550)\" style=\"stroke:#000000; stroke-linecap:round; stroke-linejoin:round; stroke-width:4; stroke-opacity:1; fill:none\" points=\"1780.18,1427.5 1780.18,1408.6 \"/>\n",
       "<polyline clip-path=\"url(#clip550)\" style=\"stroke:#000000; stroke-linecap:round; stroke-linejoin:round; stroke-width:4; stroke-opacity:1; fill:none\" points=\"1971.04,1427.5 1971.04,1408.6 \"/>\n",
       "<polyline clip-path=\"url(#clip550)\" style=\"stroke:#000000; stroke-linecap:round; stroke-linejoin:round; stroke-width:4; stroke-opacity:1; fill:none\" points=\"2161.9,1427.5 2161.9,1408.6 \"/>\n",
       "<polyline clip-path=\"url(#clip550)\" style=\"stroke:#000000; stroke-linecap:round; stroke-linejoin:round; stroke-width:4; stroke-opacity:1; fill:none\" points=\"2352.76,1427.5 2352.76,1408.6 \"/>\n",
       "<path clip-path=\"url(#clip550)\" d=\"M444.171 1459.88 Q440.108 1459.88 438.051 1463.89 Q436.02 1467.88 436.02 1475.9 Q436.02 1483.89 438.051 1487.9 Q440.108 1491.89 444.171 1491.89 Q448.259 1491.89 450.291 1487.9 Q452.348 1483.89 452.348 1475.9 Q452.348 1467.88 450.291 1463.89 Q448.259 1459.88 444.171 1459.88 M444.171 1455.72 Q450.707 1455.72 454.145 1460.9 Q457.608 1466.06 457.608 1475.9 Q457.608 1485.72 454.145 1490.9 Q450.707 1496.06 444.171 1496.06 Q437.634 1496.06 434.171 1490.9 Q430.733 1485.72 430.733 1475.9 Q430.733 1466.06 434.171 1460.9 Q437.634 1455.72 444.171 1455.72 Z\" fill=\"#000000\" fill-rule=\"nonzero\" fill-opacity=\"1\" /><path clip-path=\"url(#clip550)\" d=\"M624.209 1490.87 L632.803 1490.87 L632.803 1461.21 L623.454 1463.09 L623.454 1458.29 L632.751 1456.42 L638.011 1456.42 L638.011 1490.87 L646.605 1490.87 L646.605 1495.3 L624.209 1495.3 L624.209 1490.87 Z\" fill=\"#000000\" fill-rule=\"nonzero\" fill-opacity=\"1\" /><path clip-path=\"url(#clip550)\" d=\"M819.872 1490.87 L838.231 1490.87 L838.231 1495.3 L813.544 1495.3 L813.544 1490.87 Q816.539 1487.77 821.695 1482.57 Q826.877 1477.33 828.206 1475.82 Q830.732 1472.98 831.721 1471.03 Q832.737 1469.05 832.737 1467.15 Q832.737 1464.05 830.549 1462.1 Q828.388 1460.14 824.898 1460.14 Q822.424 1460.14 819.664 1461 Q816.93 1461.86 813.805 1463.61 L813.805 1458.29 Q816.982 1457.02 819.742 1456.37 Q822.502 1455.72 824.794 1455.72 Q830.836 1455.72 834.429 1458.74 Q838.023 1461.76 838.023 1466.81 Q838.023 1469.21 837.112 1471.37 Q836.226 1473.5 833.857 1476.42 Q833.205 1477.17 829.716 1480.79 Q826.226 1484.39 819.872 1490.87 Z\" fill=\"#000000\" fill-rule=\"nonzero\" fill-opacity=\"1\" /><path clip-path=\"url(#clip550)\" d=\"M1021.52 1474.34 Q1025.3 1475.14 1027.41 1477.7 Q1029.55 1480.25 1029.55 1484 Q1029.55 1489.75 1025.59 1492.9 Q1021.63 1496.06 1014.34 1496.06 Q1011.89 1496.06 1009.29 1495.56 Q1006.71 1495.09 1003.95 1494.13 L1003.95 1489.05 Q1006.13 1490.33 1008.74 1490.98 Q1011.34 1491.63 1014.18 1491.63 Q1019.13 1491.63 1021.71 1489.67 Q1024.31 1487.72 1024.31 1484 Q1024.31 1480.56 1021.89 1478.63 Q1019.49 1476.68 1015.2 1476.68 L1010.67 1476.68 L1010.67 1472.36 L1015.41 1472.36 Q1019.29 1472.36 1021.34 1470.82 Q1023.4 1469.26 1023.4 1466.34 Q1023.4 1463.35 1021.26 1461.76 Q1019.16 1460.14 1015.2 1460.14 Q1013.04 1460.14 1010.56 1460.61 Q1008.09 1461.08 1005.12 1462.07 L1005.12 1457.38 Q1008.11 1456.55 1010.72 1456.13 Q1013.35 1455.72 1015.67 1455.72 Q1021.66 1455.72 1025.14 1458.45 Q1028.63 1461.16 1028.63 1465.79 Q1028.63 1469.02 1026.79 1471.26 Q1024.94 1473.48 1021.52 1474.34 Z\" fill=\"#000000\" fill-rule=\"nonzero\" fill-opacity=\"1\" /><path clip-path=\"url(#clip550)\" d=\"M1210.99 1461 L1197.71 1481.76 L1210.99 1481.76 L1210.99 1461 M1209.61 1456.42 L1216.22 1456.42 L1216.22 1481.76 L1221.77 1481.76 L1221.77 1486.13 L1216.22 1486.13 L1216.22 1495.3 L1210.99 1495.3 L1210.99 1486.13 L1193.44 1486.13 L1193.44 1481.06 L1209.61 1456.42 Z\" fill=\"#000000\" fill-rule=\"nonzero\" fill-opacity=\"1\" /><path clip-path=\"url(#clip550)\" d=\"M1387.53 1456.42 L1408.18 1456.42 L1408.18 1460.85 L1392.34 1460.85 L1392.34 1470.38 Q1393.49 1469.99 1394.64 1469.81 Q1395.78 1469.6 1396.93 1469.6 Q1403.44 1469.6 1407.24 1473.16 Q1411.04 1476.73 1411.04 1482.83 Q1411.04 1489.1 1407.14 1492.59 Q1403.23 1496.06 1396.12 1496.06 Q1393.67 1496.06 1391.12 1495.64 Q1388.59 1495.22 1385.89 1494.39 L1385.89 1489.1 Q1388.23 1490.38 1390.73 1491 Q1393.23 1491.63 1396.02 1491.63 Q1400.52 1491.63 1403.15 1489.26 Q1405.78 1486.89 1405.78 1482.83 Q1405.78 1478.76 1403.15 1476.39 Q1400.52 1474.02 1396.02 1474.02 Q1393.91 1474.02 1391.8 1474.49 Q1389.71 1474.96 1387.53 1475.95 L1387.53 1456.42 Z\" fill=\"#000000\" fill-rule=\"nonzero\" fill-opacity=\"1\" /><path clip-path=\"url(#clip550)\" d=\"M1589.78 1473.76 Q1586.24 1473.76 1584.15 1476.19 Q1582.1 1478.61 1582.1 1482.83 Q1582.1 1487.02 1584.15 1489.47 Q1586.24 1491.89 1589.78 1491.89 Q1593.32 1491.89 1595.38 1489.47 Q1597.46 1487.02 1597.46 1482.83 Q1597.46 1478.61 1595.38 1476.19 Q1593.32 1473.76 1589.78 1473.76 M1600.22 1457.28 L1600.22 1462.07 Q1598.24 1461.13 1596.21 1460.64 Q1594.2 1460.14 1592.23 1460.14 Q1587.02 1460.14 1584.26 1463.66 Q1581.52 1467.17 1581.13 1474.28 Q1582.67 1472.02 1584.99 1470.82 Q1587.3 1469.6 1590.09 1469.6 Q1595.95 1469.6 1599.33 1473.16 Q1602.75 1476.71 1602.75 1482.83 Q1602.75 1488.82 1599.2 1492.44 Q1595.66 1496.06 1589.78 1496.06 Q1583.03 1496.06 1579.47 1490.9 Q1575.9 1485.72 1575.9 1475.9 Q1575.9 1466.68 1580.27 1461.21 Q1584.65 1455.72 1592.02 1455.72 Q1594 1455.72 1596 1456.11 Q1598.03 1456.5 1600.22 1457.28 Z\" fill=\"#000000\" fill-rule=\"nonzero\" fill-opacity=\"1\" /><path clip-path=\"url(#clip550)\" d=\"M1767.68 1456.42 L1792.68 1456.42 L1792.68 1458.66 L1778.57 1495.3 L1773.07 1495.3 L1786.35 1460.85 L1767.68 1460.85 L1767.68 1456.42 Z\" fill=\"#000000\" fill-rule=\"nonzero\" fill-opacity=\"1\" /><path clip-path=\"url(#clip550)\" d=\"M1971.04 1476.84 Q1967.29 1476.84 1965.13 1478.84 Q1962.99 1480.85 1962.99 1484.36 Q1962.99 1487.88 1965.13 1489.88 Q1967.29 1491.89 1971.04 1491.89 Q1974.79 1491.89 1976.95 1489.88 Q1979.11 1487.85 1979.11 1484.36 Q1979.11 1480.85 1976.95 1478.84 Q1974.81 1476.84 1971.04 1476.84 M1965.78 1474.6 Q1962.39 1473.76 1960.49 1471.45 Q1958.62 1469.13 1958.62 1465.79 Q1958.62 1461.13 1961.92 1458.43 Q1965.26 1455.72 1971.04 1455.72 Q1976.85 1455.72 1980.15 1458.43 Q1983.46 1461.13 1983.46 1465.79 Q1983.46 1469.13 1981.56 1471.45 Q1979.68 1473.76 1976.33 1474.6 Q1980.13 1475.48 1982.24 1478.06 Q1984.37 1480.64 1984.37 1484.36 Q1984.37 1490.01 1980.91 1493.03 Q1977.47 1496.06 1971.04 1496.06 Q1964.61 1496.06 1961.14 1493.03 Q1957.71 1490.01 1957.71 1484.36 Q1957.71 1480.64 1959.84 1478.06 Q1961.98 1475.48 1965.78 1474.6 M1963.85 1466.29 Q1963.85 1469.31 1965.73 1471 Q1967.63 1472.7 1971.04 1472.7 Q1974.42 1472.7 1976.33 1471 Q1978.25 1469.31 1978.25 1466.29 Q1978.25 1463.27 1976.33 1461.58 Q1974.42 1459.88 1971.04 1459.88 Q1967.63 1459.88 1965.73 1461.58 Q1963.85 1463.27 1963.85 1466.29 Z\" fill=\"#000000\" fill-rule=\"nonzero\" fill-opacity=\"1\" /><path clip-path=\"url(#clip550)\" d=\"M2150.99 1494.49 L2150.99 1489.7 Q2152.97 1490.64 2155 1491.13 Q2157.03 1491.63 2158.98 1491.63 Q2164.19 1491.63 2166.92 1488.14 Q2169.68 1484.62 2170.07 1477.49 Q2168.56 1479.73 2166.25 1480.92 Q2163.93 1482.12 2161.12 1482.12 Q2155.28 1482.12 2151.87 1478.61 Q2148.49 1475.07 2148.49 1468.95 Q2148.49 1462.96 2152.03 1459.34 Q2155.57 1455.72 2161.45 1455.72 Q2168.2 1455.72 2171.74 1460.9 Q2175.31 1466.06 2175.31 1475.9 Q2175.31 1485.09 2170.93 1490.59 Q2166.58 1496.06 2159.22 1496.06 Q2157.24 1496.06 2155.2 1495.66 Q2153.17 1495.27 2150.99 1494.49 M2161.45 1478.01 Q2165 1478.01 2167.05 1475.59 Q2169.14 1473.16 2169.14 1468.95 Q2169.14 1464.75 2167.05 1462.33 Q2165 1459.88 2161.45 1459.88 Q2157.91 1459.88 2155.83 1462.33 Q2153.77 1464.75 2153.77 1468.95 Q2153.77 1473.16 2155.83 1475.59 Q2157.91 1478.01 2161.45 1478.01 Z\" fill=\"#000000\" fill-rule=\"nonzero\" fill-opacity=\"1\" /><path clip-path=\"url(#clip550)\" d=\"M2324.28 1490.87 L2332.87 1490.87 L2332.87 1461.21 L2323.52 1463.09 L2323.52 1458.29 L2332.82 1456.42 L2338.08 1456.42 L2338.08 1490.87 L2346.68 1490.87 L2346.68 1495.3 L2324.28 1495.3 L2324.28 1490.87 Z\" fill=\"#000000\" fill-rule=\"nonzero\" fill-opacity=\"1\" /><path clip-path=\"url(#clip550)\" d=\"M2368.55 1459.88 Q2364.49 1459.88 2362.43 1463.89 Q2360.4 1467.88 2360.4 1475.9 Q2360.4 1483.89 2362.43 1487.9 Q2364.49 1491.89 2368.55 1491.89 Q2372.64 1491.89 2374.67 1487.9 Q2376.73 1483.89 2376.73 1475.9 Q2376.73 1467.88 2374.67 1463.89 Q2372.64 1459.88 2368.55 1459.88 M2368.55 1455.72 Q2375.09 1455.72 2378.52 1460.9 Q2381.99 1466.06 2381.99 1475.9 Q2381.99 1485.72 2378.52 1490.9 Q2375.09 1496.06 2368.55 1496.06 Q2362.01 1496.06 2358.55 1490.9 Q2355.11 1485.72 2355.11 1475.9 Q2355.11 1466.06 2358.55 1460.9 Q2362.01 1455.72 2368.55 1455.72 Z\" fill=\"#000000\" fill-rule=\"nonzero\" fill-opacity=\"1\" /><path clip-path=\"url(#clip550)\" d=\"M1290.09 1527.96 L1294.91 1527.96 L1294.91 1551.89 L1309.21 1539.31 L1315.33 1539.31 L1299.86 1552.96 L1315.98 1568.48 L1309.73 1568.48 L1294.91 1554.23 L1294.91 1568.48 L1290.09 1568.48 L1290.09 1527.96 Z\" fill=\"#000000\" fill-rule=\"nonzero\" fill-opacity=\"1\" /><polyline clip-path=\"url(#clip552)\" style=\"stroke:#000000; stroke-linecap:round; stroke-linejoin:round; stroke-width:2; stroke-opacity:0.1; fill:none\" points=\"253.312,1427.5 2352.76,1427.5 \"/>\n",
       "<polyline clip-path=\"url(#clip552)\" style=\"stroke:#000000; stroke-linecap:round; stroke-linejoin:round; stroke-width:2; stroke-opacity:0.1; fill:none\" points=\"253.312,1137.98 2352.76,1137.98 \"/>\n",
       "<polyline clip-path=\"url(#clip552)\" style=\"stroke:#000000; stroke-linecap:round; stroke-linejoin:round; stroke-width:2; stroke-opacity:0.1; fill:none\" points=\"253.312,848.452 2352.76,848.452 \"/>\n",
       "<polyline clip-path=\"url(#clip552)\" style=\"stroke:#000000; stroke-linecap:round; stroke-linejoin:round; stroke-width:2; stroke-opacity:0.1; fill:none\" points=\"253.312,558.929 2352.76,558.929 \"/>\n",
       "<polyline clip-path=\"url(#clip552)\" style=\"stroke:#000000; stroke-linecap:round; stroke-linejoin:round; stroke-width:2; stroke-opacity:0.1; fill:none\" points=\"253.312,269.405 2352.76,269.405 \"/>\n",
       "<polyline clip-path=\"url(#clip550)\" style=\"stroke:#000000; stroke-linecap:round; stroke-linejoin:round; stroke-width:4; stroke-opacity:1; fill:none\" points=\"253.312,1427.5 253.312,47.2441 \"/>\n",
       "<polyline clip-path=\"url(#clip550)\" style=\"stroke:#000000; stroke-linecap:round; stroke-linejoin:round; stroke-width:4; stroke-opacity:1; fill:none\" points=\"253.312,1427.5 272.21,1427.5 \"/>\n",
       "<polyline clip-path=\"url(#clip550)\" style=\"stroke:#000000; stroke-linecap:round; stroke-linejoin:round; stroke-width:4; stroke-opacity:1; fill:none\" points=\"253.312,1137.98 272.21,1137.98 \"/>\n",
       "<polyline clip-path=\"url(#clip550)\" style=\"stroke:#000000; stroke-linecap:round; stroke-linejoin:round; stroke-width:4; stroke-opacity:1; fill:none\" points=\"253.312,848.452 272.21,848.452 \"/>\n",
       "<polyline clip-path=\"url(#clip550)\" style=\"stroke:#000000; stroke-linecap:round; stroke-linejoin:round; stroke-width:4; stroke-opacity:1; fill:none\" points=\"253.312,558.929 272.21,558.929 \"/>\n",
       "<polyline clip-path=\"url(#clip550)\" style=\"stroke:#000000; stroke-linecap:round; stroke-linejoin:round; stroke-width:4; stroke-opacity:1; fill:none\" points=\"253.312,269.405 272.21,269.405 \"/>\n",
       "<path clip-path=\"url(#clip550)\" d=\"M119.058 1438.74 Q114.995 1438.74 112.938 1442.75 Q110.907 1446.73 110.907 1454.75 Q110.907 1462.75 112.938 1466.76 Q114.995 1470.74 119.058 1470.74 Q123.146 1470.74 125.177 1466.76 Q127.235 1462.75 127.235 1454.75 Q127.235 1446.73 125.177 1442.75 Q123.146 1438.74 119.058 1438.74 M119.058 1434.57 Q125.594 1434.57 129.031 1439.75 Q132.495 1444.91 132.495 1454.75 Q132.495 1464.57 129.031 1469.75 Q125.594 1474.91 119.058 1474.91 Q112.521 1474.91 109.058 1469.75 Q105.62 1464.57 105.62 1454.75 Q105.62 1444.91 109.058 1439.75 Q112.521 1434.57 119.058 1434.57 Z\" fill=\"#000000\" fill-rule=\"nonzero\" fill-opacity=\"1\" /><path clip-path=\"url(#clip550)\" d=\"M141.74 1467.54 L147.235 1467.54 L147.235 1474.16 L141.74 1474.16 L141.74 1467.54 Z\" fill=\"#000000\" fill-rule=\"nonzero\" fill-opacity=\"1\" /><path clip-path=\"url(#clip550)\" d=\"M169.943 1438.74 Q165.88 1438.74 163.823 1442.75 Q161.792 1446.73 161.792 1454.75 Q161.792 1462.75 163.823 1466.76 Q165.88 1470.74 169.943 1470.74 Q174.031 1470.74 176.062 1466.76 Q178.12 1462.75 178.12 1454.75 Q178.12 1446.73 176.062 1442.75 Q174.031 1438.74 169.943 1438.74 M169.943 1434.57 Q176.479 1434.57 179.917 1439.75 Q183.38 1444.91 183.38 1454.75 Q183.38 1464.57 179.917 1469.75 Q176.479 1474.91 169.943 1474.91 Q163.406 1474.91 159.943 1469.75 Q156.505 1464.57 156.505 1454.75 Q156.505 1444.91 159.943 1439.75 Q163.406 1434.57 169.943 1434.57 Z\" fill=\"#000000\" fill-rule=\"nonzero\" fill-opacity=\"1\" /><path clip-path=\"url(#clip550)\" d=\"M203.875 1438.74 Q199.812 1438.74 197.755 1442.75 Q195.724 1446.73 195.724 1454.75 Q195.724 1462.75 197.755 1466.76 Q199.812 1470.74 203.875 1470.74 Q207.963 1470.74 209.995 1466.76 Q212.052 1462.75 212.052 1454.75 Q212.052 1446.73 209.995 1442.75 Q207.963 1438.74 203.875 1438.74 M203.875 1434.57 Q210.411 1434.57 213.849 1439.75 Q217.312 1444.91 217.312 1454.75 Q217.312 1464.57 213.849 1469.75 Q210.411 1474.91 203.875 1474.91 Q197.338 1474.91 193.875 1469.75 Q190.437 1464.57 190.437 1454.75 Q190.437 1444.91 193.875 1439.75 Q197.338 1434.57 203.875 1434.57 Z\" fill=\"#000000\" fill-rule=\"nonzero\" fill-opacity=\"1\" /><path clip-path=\"url(#clip550)\" d=\"M120.177 1149.22 Q116.115 1149.22 114.058 1153.23 Q112.026 1157.21 112.026 1165.23 Q112.026 1173.23 114.058 1177.24 Q116.115 1181.22 120.177 1181.22 Q124.266 1181.22 126.297 1177.24 Q128.354 1173.23 128.354 1165.23 Q128.354 1157.21 126.297 1153.23 Q124.266 1149.22 120.177 1149.22 M120.177 1145.05 Q126.714 1145.05 130.151 1150.23 Q133.615 1155.39 133.615 1165.23 Q133.615 1175.05 130.151 1180.23 Q126.714 1185.39 120.177 1185.39 Q113.641 1185.39 110.177 1180.23 Q106.74 1175.05 106.74 1165.23 Q106.74 1155.39 110.177 1150.23 Q113.641 1145.05 120.177 1145.05 Z\" fill=\"#000000\" fill-rule=\"nonzero\" fill-opacity=\"1\" /><path clip-path=\"url(#clip550)\" d=\"M142.86 1178.02 L148.354 1178.02 L148.354 1184.63 L142.86 1184.63 L142.86 1178.02 Z\" fill=\"#000000\" fill-rule=\"nonzero\" fill-opacity=\"1\" /><path clip-path=\"url(#clip550)\" d=\"M171.063 1149.22 Q167 1149.22 164.943 1153.23 Q162.912 1157.21 162.912 1165.23 Q162.912 1173.23 164.943 1177.24 Q167 1181.22 171.063 1181.22 Q175.151 1181.22 177.182 1177.24 Q179.24 1173.23 179.24 1165.23 Q179.24 1157.21 177.182 1153.23 Q175.151 1149.22 171.063 1149.22 M171.063 1145.05 Q177.599 1145.05 181.036 1150.23 Q184.5 1155.39 184.5 1165.23 Q184.5 1175.05 181.036 1180.23 Q177.599 1185.39 171.063 1185.39 Q164.526 1185.39 161.063 1180.23 Q157.625 1175.05 157.625 1165.23 Q157.625 1155.39 161.063 1150.23 Q164.526 1145.05 171.063 1145.05 Z\" fill=\"#000000\" fill-rule=\"nonzero\" fill-opacity=\"1\" /><path clip-path=\"url(#clip550)\" d=\"M193.797 1145.75 L214.448 1145.75 L214.448 1150.18 L198.614 1150.18 L198.614 1159.71 Q199.76 1159.32 200.906 1159.14 Q202.052 1158.93 203.198 1158.93 Q209.708 1158.93 213.51 1162.5 Q217.312 1166.06 217.312 1172.16 Q217.312 1178.43 213.406 1181.92 Q209.5 1185.39 202.39 1185.39 Q199.943 1185.39 197.39 1184.97 Q194.864 1184.55 192.156 1183.72 L192.156 1178.43 Q194.5 1179.71 197 1180.34 Q199.5 1180.96 202.286 1180.96 Q206.791 1180.96 209.422 1178.59 Q212.052 1176.22 212.052 1172.16 Q212.052 1168.1 209.422 1165.73 Q206.791 1163.36 202.286 1163.36 Q200.177 1163.36 198.068 1163.82 Q195.984 1164.29 193.797 1165.28 L193.797 1145.75 Z\" fill=\"#000000\" fill-rule=\"nonzero\" fill-opacity=\"1\" /><path clip-path=\"url(#clip550)\" d=\"M119.058 859.692 Q114.995 859.692 112.938 863.702 Q110.907 867.687 110.907 875.708 Q110.907 883.702 112.938 887.713 Q114.995 891.697 119.058 891.697 Q123.146 891.697 125.177 887.713 Q127.235 883.702 127.235 875.708 Q127.235 867.687 125.177 863.702 Q123.146 859.692 119.058 859.692 M119.058 855.525 Q125.594 855.525 129.031 860.708 Q132.495 865.864 132.495 875.708 Q132.495 885.525 129.031 890.707 Q125.594 895.864 119.058 895.864 Q112.521 895.864 109.058 890.707 Q105.62 885.525 105.62 875.708 Q105.62 865.864 109.058 860.708 Q112.521 855.525 119.058 855.525 Z\" fill=\"#000000\" fill-rule=\"nonzero\" fill-opacity=\"1\" /><path clip-path=\"url(#clip550)\" d=\"M141.74 888.494 L147.235 888.494 L147.235 895.108 L141.74 895.108 L141.74 888.494 Z\" fill=\"#000000\" fill-rule=\"nonzero\" fill-opacity=\"1\" /><path clip-path=\"url(#clip550)\" d=\"M159.604 890.681 L168.198 890.681 L168.198 861.02 L158.849 862.895 L158.849 858.103 L168.146 856.228 L173.406 856.228 L173.406 890.681 L182 890.681 L182 895.108 L159.604 895.108 L159.604 890.681 Z\" fill=\"#000000\" fill-rule=\"nonzero\" fill-opacity=\"1\" /><path clip-path=\"url(#clip550)\" d=\"M203.875 859.692 Q199.812 859.692 197.755 863.702 Q195.724 867.687 195.724 875.708 Q195.724 883.702 197.755 887.713 Q199.812 891.697 203.875 891.697 Q207.963 891.697 209.995 887.713 Q212.052 883.702 212.052 875.708 Q212.052 867.687 209.995 863.702 Q207.963 859.692 203.875 859.692 M203.875 855.525 Q210.411 855.525 213.849 860.708 Q217.312 865.864 217.312 875.708 Q217.312 885.525 213.849 890.707 Q210.411 895.864 203.875 895.864 Q197.338 895.864 193.875 890.707 Q190.437 885.525 190.437 875.708 Q190.437 865.864 193.875 860.708 Q197.338 855.525 203.875 855.525 Z\" fill=\"#000000\" fill-rule=\"nonzero\" fill-opacity=\"1\" /><path clip-path=\"url(#clip550)\" d=\"M120.177 570.168 Q116.115 570.168 114.058 574.179 Q112.026 578.163 112.026 586.184 Q112.026 594.179 114.058 598.189 Q116.115 602.173 120.177 602.173 Q124.266 602.173 126.297 598.189 Q128.354 594.179 128.354 586.184 Q128.354 578.163 126.297 574.179 Q124.266 570.168 120.177 570.168 M120.177 566.002 Q126.714 566.002 130.151 571.184 Q133.615 576.34 133.615 586.184 Q133.615 596.002 130.151 601.184 Q126.714 606.34 120.177 606.34 Q113.641 606.34 110.177 601.184 Q106.74 596.002 106.74 586.184 Q106.74 576.34 110.177 571.184 Q113.641 566.002 120.177 566.002 Z\" fill=\"#000000\" fill-rule=\"nonzero\" fill-opacity=\"1\" /><path clip-path=\"url(#clip550)\" d=\"M142.86 598.97 L148.354 598.97 L148.354 605.585 L142.86 605.585 L142.86 598.97 Z\" fill=\"#000000\" fill-rule=\"nonzero\" fill-opacity=\"1\" /><path clip-path=\"url(#clip550)\" d=\"M160.724 601.158 L169.318 601.158 L169.318 571.496 L159.969 573.371 L159.969 568.58 L169.266 566.705 L174.526 566.705 L174.526 601.158 L183.12 601.158 L183.12 605.585 L160.724 605.585 L160.724 601.158 Z\" fill=\"#000000\" fill-rule=\"nonzero\" fill-opacity=\"1\" /><path clip-path=\"url(#clip550)\" d=\"M193.797 566.705 L214.448 566.705 L214.448 571.132 L198.614 571.132 L198.614 580.663 Q199.76 580.272 200.906 580.09 Q202.052 579.882 203.198 579.882 Q209.708 579.882 213.51 583.45 Q217.312 587.017 217.312 593.111 Q217.312 599.387 213.406 602.877 Q209.5 606.34 202.39 606.34 Q199.943 606.34 197.39 605.923 Q194.864 605.507 192.156 604.673 L192.156 599.387 Q194.5 600.663 197 601.288 Q199.5 601.913 202.286 601.913 Q206.791 601.913 209.422 599.543 Q212.052 597.173 212.052 593.111 Q212.052 589.048 209.422 586.679 Q206.791 584.309 202.286 584.309 Q200.177 584.309 198.068 584.778 Q195.984 585.246 193.797 586.236 L193.797 566.705 Z\" fill=\"#000000\" fill-rule=\"nonzero\" fill-opacity=\"1\" /><path clip-path=\"url(#clip550)\" d=\"M119.058 280.645 Q114.995 280.645 112.938 284.655 Q110.907 288.639 110.907 296.66 Q110.907 304.655 112.938 308.665 Q114.995 312.65 119.058 312.65 Q123.146 312.65 125.177 308.665 Q127.235 304.655 127.235 296.66 Q127.235 288.639 125.177 284.655 Q123.146 280.645 119.058 280.645 M119.058 276.478 Q125.594 276.478 129.031 281.66 Q132.495 286.817 132.495 296.66 Q132.495 306.478 129.031 311.66 Q125.594 316.816 119.058 316.816 Q112.521 316.816 109.058 311.66 Q105.62 306.478 105.62 296.66 Q105.62 286.817 109.058 281.66 Q112.521 276.478 119.058 276.478 Z\" fill=\"#000000\" fill-rule=\"nonzero\" fill-opacity=\"1\" /><path clip-path=\"url(#clip550)\" d=\"M141.74 309.447 L147.235 309.447 L147.235 316.061 L141.74 316.061 L141.74 309.447 Z\" fill=\"#000000\" fill-rule=\"nonzero\" fill-opacity=\"1\" /><path clip-path=\"url(#clip550)\" d=\"M163.224 311.634 L181.583 311.634 L181.583 316.061 L156.896 316.061 L156.896 311.634 Q159.891 308.535 165.047 303.327 Q170.229 298.092 171.557 296.582 Q174.083 293.744 175.073 291.79 Q176.089 289.811 176.089 287.91 Q176.089 284.811 173.901 282.858 Q171.74 280.905 168.25 280.905 Q165.776 280.905 163.016 281.764 Q160.281 282.624 157.156 284.369 L157.156 279.056 Q160.333 277.78 163.094 277.129 Q165.854 276.478 168.146 276.478 Q174.187 276.478 177.781 279.499 Q181.375 282.52 181.375 287.572 Q181.375 289.968 180.464 292.129 Q179.578 294.264 177.208 297.181 Q176.557 297.936 173.068 301.556 Q169.578 305.15 163.224 311.634 Z\" fill=\"#000000\" fill-rule=\"nonzero\" fill-opacity=\"1\" /><path clip-path=\"url(#clip550)\" d=\"M203.875 280.645 Q199.812 280.645 197.755 284.655 Q195.724 288.639 195.724 296.66 Q195.724 304.655 197.755 308.665 Q199.812 312.65 203.875 312.65 Q207.963 312.65 209.995 308.665 Q212.052 304.655 212.052 296.66 Q212.052 288.639 209.995 284.655 Q207.963 280.645 203.875 280.645 M203.875 276.478 Q210.411 276.478 213.849 281.66 Q217.312 286.817 217.312 296.66 Q217.312 306.478 213.849 311.66 Q210.411 316.816 203.875 316.816 Q197.338 316.816 193.875 311.66 Q190.437 306.478 190.437 296.66 Q190.437 286.817 193.875 281.66 Q197.338 276.478 203.875 276.478 Z\" fill=\"#000000\" fill-rule=\"nonzero\" fill-opacity=\"1\" /><path clip-path=\"url(#clip550)\" d=\"M23.3991 209.928 L38.0083 209.928 L38.0083 203.314 Q38.0083 199.642 36.1073 197.637 Q34.2063 195.631 30.6907 195.631 Q27.2011 195.631 25.3001 197.637 Q23.3991 199.642 23.3991 203.314 L23.3991 209.928 M19.0762 215.189 L19.0762 203.314 Q19.0762 196.777 22.0449 193.444 Q24.9876 190.085 30.6907 190.085 Q36.4459 190.085 39.3885 193.444 Q42.3312 196.777 42.3312 203.314 L42.3312 209.928 L57.9562 209.928 L57.9562 215.189 L19.0762 215.189 Z\" fill=\"#000000\" fill-rule=\"nonzero\" fill-opacity=\"1\" /><path clip-path=\"url(#clip550)\" d=\"M17.4876 171.725 Q23.4772 175.215 29.3365 176.908 Q35.1959 178.6 41.2115 178.6 Q47.227 178.6 53.1385 176.908 Q59.0239 175.189 64.9874 171.725 L64.9874 175.892 Q58.8676 179.798 52.9562 181.751 Q47.0448 183.678 41.2115 183.678 Q35.4042 183.678 29.5188 181.751 Q23.6334 179.824 17.4876 175.892 L17.4876 171.725 Z\" fill=\"#000000\" fill-rule=\"nonzero\" fill-opacity=\"1\" /><path clip-path=\"url(#clip550)\" d=\"M19.0762 162.22 L19.0762 156.96 L35.5084 156.96 L19.0762 139.512 L19.0762 132.741 L37.2011 152.038 L57.9562 131.361 L57.9562 138.288 L39.2323 156.96 L57.9562 156.96 L57.9562 162.22 L19.0762 162.22 Z\" fill=\"#000000\" fill-rule=\"nonzero\" fill-opacity=\"1\" /><path clip-path=\"url(#clip550)\" d=\"M17.4876 128.21 L17.4876 124.043 Q23.6334 120.137 29.5188 118.21 Q35.4042 116.257 41.2115 116.257 Q47.0448 116.257 52.9562 118.21 Q58.8676 120.137 64.9874 124.043 L64.9874 128.21 Q59.0239 124.746 53.1385 123.054 Q47.227 121.335 41.2115 121.335 Q35.1959 121.335 29.3365 123.054 Q23.4772 124.746 17.4876 128.21 Z\" fill=\"#000000\" fill-rule=\"nonzero\" fill-opacity=\"1\" /><path clip-path=\"url(#clip552)\" d=\"M367.827 1412.83 L367.827 1427.5 L520.514 1427.5 L520.514 1412.83 L367.827 1412.83 L367.827 1412.83  Z\" fill=\"#009af9\" fill-rule=\"evenodd\" fill-opacity=\"1\"/>\n",
       "<polyline clip-path=\"url(#clip552)\" style=\"stroke:#000000; stroke-linecap:round; stroke-linejoin:round; stroke-width:4; stroke-opacity:1; fill:none\" points=\"367.827,1412.83 367.827,1427.5 520.514,1427.5 520.514,1412.83 367.827,1412.83 \"/>\n",
       "<path clip-path=\"url(#clip552)\" d=\"M558.686 1307.5 L558.686 1427.5 L711.373 1427.5 L711.373 1307.5 L558.686 1307.5 L558.686 1307.5  Z\" fill=\"#009af9\" fill-rule=\"evenodd\" fill-opacity=\"1\"/>\n",
       "<polyline clip-path=\"url(#clip552)\" style=\"stroke:#000000; stroke-linecap:round; stroke-linejoin:round; stroke-width:4; stroke-opacity:1; fill:none\" points=\"558.686,1307.5 558.686,1427.5 711.373,1427.5 711.373,1307.5 558.686,1307.5 \"/>\n",
       "<path clip-path=\"url(#clip552)\" d=\"M749.544 985.672 L749.544 1427.5 L902.231 1427.5 L902.231 985.672 L749.544 985.672 L749.544 985.672  Z\" fill=\"#009af9\" fill-rule=\"evenodd\" fill-opacity=\"1\"/>\n",
       "<polyline clip-path=\"url(#clip552)\" style=\"stroke:#000000; stroke-linecap:round; stroke-linejoin:round; stroke-width:4; stroke-opacity:1; fill:none\" points=\"749.544,985.672 749.544,1427.5 902.231,1427.5 902.231,985.672 749.544,985.672 \"/>\n",
       "<path clip-path=\"url(#clip552)\" d=\"M940.403 463.512 L940.403 1427.5 L1093.09 1427.5 L1093.09 463.512 L940.403 463.512 L940.403 463.512  Z\" fill=\"#009af9\" fill-rule=\"evenodd\" fill-opacity=\"1\"/>\n",
       "<polyline clip-path=\"url(#clip552)\" style=\"stroke:#000000; stroke-linecap:round; stroke-linejoin:round; stroke-width:4; stroke-opacity:1; fill:none\" points=\"940.403,463.512 940.403,1427.5 1093.09,1427.5 1093.09,463.512 940.403,463.512 \"/>\n",
       "<path clip-path=\"url(#clip552)\" d=\"M1131.26 47.2441 L1131.26 1427.5 L1283.95 1427.5 L1283.95 47.2441 L1131.26 47.2441 L1131.26 47.2441  Z\" fill=\"#009af9\" fill-rule=\"evenodd\" fill-opacity=\"1\"/>\n",
       "<polyline clip-path=\"url(#clip552)\" style=\"stroke:#000000; stroke-linecap:round; stroke-linejoin:round; stroke-width:4; stroke-opacity:1; fill:none\" points=\"1131.26,47.2441 1131.26,1427.5 1283.95,1427.5 1283.95,47.2441 1131.26,47.2441 \"/>\n",
       "<path clip-path=\"url(#clip552)\" d=\"M1322.12 72.3397 L1322.12 1427.5 L1474.81 1427.5 L1474.81 72.3397 L1322.12 72.3397 L1322.12 72.3397  Z\" fill=\"#009af9\" fill-rule=\"evenodd\" fill-opacity=\"1\"/>\n",
       "<polyline clip-path=\"url(#clip552)\" style=\"stroke:#000000; stroke-linecap:round; stroke-linejoin:round; stroke-width:4; stroke-opacity:1; fill:none\" points=\"1322.12,72.3397 1322.12,1427.5 1474.81,1427.5 1474.81,72.3397 1322.12,72.3397 \"/>\n",
       "<path clip-path=\"url(#clip552)\" d=\"M1512.98 503.527 L1512.98 1427.5 L1665.67 1427.5 L1665.67 503.527 L1512.98 503.527 L1512.98 503.527  Z\" fill=\"#009af9\" fill-rule=\"evenodd\" fill-opacity=\"1\"/>\n",
       "<polyline clip-path=\"url(#clip552)\" style=\"stroke:#000000; stroke-linecap:round; stroke-linejoin:round; stroke-width:4; stroke-opacity:1; fill:none\" points=\"1512.98,503.527 1512.98,1427.5 1665.67,1427.5 1665.67,503.527 1512.98,503.527 \"/>\n",
       "<path clip-path=\"url(#clip552)\" d=\"M1703.84 995.513 L1703.84 1427.5 L1856.52 1427.5 L1856.52 995.513 L1703.84 995.513 L1703.84 995.513  Z\" fill=\"#009af9\" fill-rule=\"evenodd\" fill-opacity=\"1\"/>\n",
       "<polyline clip-path=\"url(#clip552)\" style=\"stroke:#000000; stroke-linecap:round; stroke-linejoin:round; stroke-width:4; stroke-opacity:1; fill:none\" points=\"1703.84,995.513 1703.84,1427.5 1856.52,1427.5 1856.52,995.513 1703.84,995.513 \"/>\n",
       "<path clip-path=\"url(#clip552)\" d=\"M1894.7 1294.96 L1894.7 1427.5 L2047.38 1427.5 L2047.38 1294.96 L1894.7 1294.96 L1894.7 1294.96  Z\" fill=\"#009af9\" fill-rule=\"evenodd\" fill-opacity=\"1\"/>\n",
       "<polyline clip-path=\"url(#clip552)\" style=\"stroke:#000000; stroke-linecap:round; stroke-linejoin:round; stroke-width:4; stroke-opacity:1; fill:none\" points=\"1894.7,1294.96 1894.7,1427.5 2047.38,1427.5 2047.38,1294.96 1894.7,1294.96 \"/>\n",
       "<path clip-path=\"url(#clip552)\" d=\"M2085.55 1403.4 L2085.55 1427.5 L2238.24 1427.5 L2238.24 1403.4 L2085.55 1403.4 L2085.55 1403.4  Z\" fill=\"#009af9\" fill-rule=\"evenodd\" fill-opacity=\"1\"/>\n",
       "<polyline clip-path=\"url(#clip552)\" style=\"stroke:#000000; stroke-linecap:round; stroke-linejoin:round; stroke-width:4; stroke-opacity:1; fill:none\" points=\"2085.55,1403.4 2085.55,1427.5 2238.24,1427.5 2238.24,1403.4 2085.55,1403.4 \"/>\n",
       "<path clip-path=\"url(#clip552)\" d=\"M2276.41 1425.53 L2276.41 1427.5 L2429.1 1427.5 L2429.1 1425.53 L2276.41 1425.53 L2276.41 1425.53  Z\" fill=\"#009af9\" fill-rule=\"evenodd\" fill-opacity=\"1\"/>\n",
       "<polyline clip-path=\"url(#clip552)\" style=\"stroke:#000000; stroke-linecap:round; stroke-linejoin:round; stroke-width:4; stroke-opacity:1; fill:none\" points=\"2276.41,1425.53 2276.41,1427.5 2429.1,1427.5 2429.1,1425.53 2276.41,1425.53 \"/>\n",
       "<circle clip-path=\"url(#clip552)\" style=\"fill:#009af9; stroke:none; fill-opacity:0\" cx=\"444.171\" cy=\"1412.83\" r=\"2\"/>\n",
       "<circle clip-path=\"url(#clip552)\" style=\"fill:#009af9; stroke:none; fill-opacity:0\" cx=\"635.029\" cy=\"1307.5\" r=\"2\"/>\n",
       "<circle clip-path=\"url(#clip552)\" style=\"fill:#009af9; stroke:none; fill-opacity:0\" cx=\"825.888\" cy=\"985.672\" r=\"2\"/>\n",
       "<circle clip-path=\"url(#clip552)\" style=\"fill:#009af9; stroke:none; fill-opacity:0\" cx=\"1016.75\" cy=\"463.512\" r=\"2\"/>\n",
       "<circle clip-path=\"url(#clip552)\" style=\"fill:#009af9; stroke:none; fill-opacity:0\" cx=\"1207.6\" cy=\"47.2441\" r=\"2\"/>\n",
       "<circle clip-path=\"url(#clip552)\" style=\"fill:#009af9; stroke:none; fill-opacity:0\" cx=\"1398.46\" cy=\"72.3397\" r=\"2\"/>\n",
       "<circle clip-path=\"url(#clip552)\" style=\"fill:#009af9; stroke:none; fill-opacity:0\" cx=\"1589.32\" cy=\"503.527\" r=\"2\"/>\n",
       "<circle clip-path=\"url(#clip552)\" style=\"fill:#009af9; stroke:none; fill-opacity:0\" cx=\"1780.18\" cy=\"995.513\" r=\"2\"/>\n",
       "<circle clip-path=\"url(#clip552)\" style=\"fill:#009af9; stroke:none; fill-opacity:0\" cx=\"1971.04\" cy=\"1294.96\" r=\"2\"/>\n",
       "<circle clip-path=\"url(#clip552)\" style=\"fill:#009af9; stroke:none; fill-opacity:0\" cx=\"2161.9\" cy=\"1403.4\" r=\"2\"/>\n",
       "<circle clip-path=\"url(#clip552)\" style=\"fill:#009af9; stroke:none; fill-opacity:0\" cx=\"2352.76\" cy=\"1425.53\" r=\"2\"/>\n",
       "</svg>\n"
      ],
      "text/html": [
       "<?xml version=\"1.0\" encoding=\"utf-8\"?>\n",
       "<svg xmlns=\"http://www.w3.org/2000/svg\" xmlns:xlink=\"http://www.w3.org/1999/xlink\" width=\"600\" height=\"400\" viewBox=\"0 0 2400 1600\">\n",
       "<defs>\n",
       "  <clipPath id=\"clip600\">\n",
       "    <rect x=\"0\" y=\"0\" width=\"2400\" height=\"1600\"/>\n",
       "  </clipPath>\n",
       "</defs>\n",
       "<path clip-path=\"url(#clip600)\" d=\"M0 1600 L2400 1600 L2400 0 L0 0  Z\" fill=\"#ffffff\" fill-rule=\"evenodd\" fill-opacity=\"1\"/>\n",
       "<defs>\n",
       "  <clipPath id=\"clip601\">\n",
       "    <rect x=\"480\" y=\"0\" width=\"1681\" height=\"1600\"/>\n",
       "  </clipPath>\n",
       "</defs>\n",
       "<path clip-path=\"url(#clip600)\" d=\"M253.312 1427.5 L2352.76 1427.5 L2352.76 47.2441 L253.312 47.2441  Z\" fill=\"#ffffff\" fill-rule=\"evenodd\" fill-opacity=\"1\"/>\n",
       "<defs>\n",
       "  <clipPath id=\"clip602\">\n",
       "    <rect x=\"253\" y=\"47\" width=\"2100\" height=\"1381\"/>\n",
       "  </clipPath>\n",
       "</defs>\n",
       "<polyline clip-path=\"url(#clip602)\" style=\"stroke:#000000; stroke-linecap:round; stroke-linejoin:round; stroke-width:2; stroke-opacity:0.1; fill:none\" points=\"444.171,1427.5 444.171,47.2441 \"/>\n",
       "<polyline clip-path=\"url(#clip602)\" style=\"stroke:#000000; stroke-linecap:round; stroke-linejoin:round; stroke-width:2; stroke-opacity:0.1; fill:none\" points=\"635.029,1427.5 635.029,47.2441 \"/>\n",
       "<polyline clip-path=\"url(#clip602)\" style=\"stroke:#000000; stroke-linecap:round; stroke-linejoin:round; stroke-width:2; stroke-opacity:0.1; fill:none\" points=\"825.888,1427.5 825.888,47.2441 \"/>\n",
       "<polyline clip-path=\"url(#clip602)\" style=\"stroke:#000000; stroke-linecap:round; stroke-linejoin:round; stroke-width:2; stroke-opacity:0.1; fill:none\" points=\"1016.75,1427.5 1016.75,47.2441 \"/>\n",
       "<polyline clip-path=\"url(#clip602)\" style=\"stroke:#000000; stroke-linecap:round; stroke-linejoin:round; stroke-width:2; stroke-opacity:0.1; fill:none\" points=\"1207.6,1427.5 1207.6,47.2441 \"/>\n",
       "<polyline clip-path=\"url(#clip602)\" style=\"stroke:#000000; stroke-linecap:round; stroke-linejoin:round; stroke-width:2; stroke-opacity:0.1; fill:none\" points=\"1398.46,1427.5 1398.46,47.2441 \"/>\n",
       "<polyline clip-path=\"url(#clip602)\" style=\"stroke:#000000; stroke-linecap:round; stroke-linejoin:round; stroke-width:2; stroke-opacity:0.1; fill:none\" points=\"1589.32,1427.5 1589.32,47.2441 \"/>\n",
       "<polyline clip-path=\"url(#clip602)\" style=\"stroke:#000000; stroke-linecap:round; stroke-linejoin:round; stroke-width:2; stroke-opacity:0.1; fill:none\" points=\"1780.18,1427.5 1780.18,47.2441 \"/>\n",
       "<polyline clip-path=\"url(#clip602)\" style=\"stroke:#000000; stroke-linecap:round; stroke-linejoin:round; stroke-width:2; stroke-opacity:0.1; fill:none\" points=\"1971.04,1427.5 1971.04,47.2441 \"/>\n",
       "<polyline clip-path=\"url(#clip602)\" style=\"stroke:#000000; stroke-linecap:round; stroke-linejoin:round; stroke-width:2; stroke-opacity:0.1; fill:none\" points=\"2161.9,1427.5 2161.9,47.2441 \"/>\n",
       "<polyline clip-path=\"url(#clip602)\" style=\"stroke:#000000; stroke-linecap:round; stroke-linejoin:round; stroke-width:2; stroke-opacity:0.1; fill:none\" points=\"2352.76,1427.5 2352.76,47.2441 \"/>\n",
       "<polyline clip-path=\"url(#clip600)\" style=\"stroke:#000000; stroke-linecap:round; stroke-linejoin:round; stroke-width:4; stroke-opacity:1; fill:none\" points=\"253.312,1427.5 2352.76,1427.5 \"/>\n",
       "<polyline clip-path=\"url(#clip600)\" style=\"stroke:#000000; stroke-linecap:round; stroke-linejoin:round; stroke-width:4; stroke-opacity:1; fill:none\" points=\"444.171,1427.5 444.171,1408.6 \"/>\n",
       "<polyline clip-path=\"url(#clip600)\" style=\"stroke:#000000; stroke-linecap:round; stroke-linejoin:round; stroke-width:4; stroke-opacity:1; fill:none\" points=\"635.029,1427.5 635.029,1408.6 \"/>\n",
       "<polyline clip-path=\"url(#clip600)\" style=\"stroke:#000000; stroke-linecap:round; stroke-linejoin:round; stroke-width:4; stroke-opacity:1; fill:none\" points=\"825.888,1427.5 825.888,1408.6 \"/>\n",
       "<polyline clip-path=\"url(#clip600)\" style=\"stroke:#000000; stroke-linecap:round; stroke-linejoin:round; stroke-width:4; stroke-opacity:1; fill:none\" points=\"1016.75,1427.5 1016.75,1408.6 \"/>\n",
       "<polyline clip-path=\"url(#clip600)\" style=\"stroke:#000000; stroke-linecap:round; stroke-linejoin:round; stroke-width:4; stroke-opacity:1; fill:none\" points=\"1207.6,1427.5 1207.6,1408.6 \"/>\n",
       "<polyline clip-path=\"url(#clip600)\" style=\"stroke:#000000; stroke-linecap:round; stroke-linejoin:round; stroke-width:4; stroke-opacity:1; fill:none\" points=\"1398.46,1427.5 1398.46,1408.6 \"/>\n",
       "<polyline clip-path=\"url(#clip600)\" style=\"stroke:#000000; stroke-linecap:round; stroke-linejoin:round; stroke-width:4; stroke-opacity:1; fill:none\" points=\"1589.32,1427.5 1589.32,1408.6 \"/>\n",
       "<polyline clip-path=\"url(#clip600)\" style=\"stroke:#000000; stroke-linecap:round; stroke-linejoin:round; stroke-width:4; stroke-opacity:1; fill:none\" points=\"1780.18,1427.5 1780.18,1408.6 \"/>\n",
       "<polyline clip-path=\"url(#clip600)\" style=\"stroke:#000000; stroke-linecap:round; stroke-linejoin:round; stroke-width:4; stroke-opacity:1; fill:none\" points=\"1971.04,1427.5 1971.04,1408.6 \"/>\n",
       "<polyline clip-path=\"url(#clip600)\" style=\"stroke:#000000; stroke-linecap:round; stroke-linejoin:round; stroke-width:4; stroke-opacity:1; fill:none\" points=\"2161.9,1427.5 2161.9,1408.6 \"/>\n",
       "<polyline clip-path=\"url(#clip600)\" style=\"stroke:#000000; stroke-linecap:round; stroke-linejoin:round; stroke-width:4; stroke-opacity:1; fill:none\" points=\"2352.76,1427.5 2352.76,1408.6 \"/>\n",
       "<path clip-path=\"url(#clip600)\" d=\"M444.171 1459.88 Q440.108 1459.88 438.051 1463.89 Q436.02 1467.88 436.02 1475.9 Q436.02 1483.89 438.051 1487.9 Q440.108 1491.89 444.171 1491.89 Q448.259 1491.89 450.291 1487.9 Q452.348 1483.89 452.348 1475.9 Q452.348 1467.88 450.291 1463.89 Q448.259 1459.88 444.171 1459.88 M444.171 1455.72 Q450.707 1455.72 454.145 1460.9 Q457.608 1466.06 457.608 1475.9 Q457.608 1485.72 454.145 1490.9 Q450.707 1496.06 444.171 1496.06 Q437.634 1496.06 434.171 1490.9 Q430.733 1485.72 430.733 1475.9 Q430.733 1466.06 434.171 1460.9 Q437.634 1455.72 444.171 1455.72 Z\" fill=\"#000000\" fill-rule=\"nonzero\" fill-opacity=\"1\" /><path clip-path=\"url(#clip600)\" d=\"M624.209 1490.87 L632.803 1490.87 L632.803 1461.21 L623.454 1463.09 L623.454 1458.29 L632.751 1456.42 L638.011 1456.42 L638.011 1490.87 L646.605 1490.87 L646.605 1495.3 L624.209 1495.3 L624.209 1490.87 Z\" fill=\"#000000\" fill-rule=\"nonzero\" fill-opacity=\"1\" /><path clip-path=\"url(#clip600)\" d=\"M819.872 1490.87 L838.231 1490.87 L838.231 1495.3 L813.544 1495.3 L813.544 1490.87 Q816.539 1487.77 821.695 1482.57 Q826.877 1477.33 828.206 1475.82 Q830.732 1472.98 831.721 1471.03 Q832.737 1469.05 832.737 1467.15 Q832.737 1464.05 830.549 1462.1 Q828.388 1460.14 824.898 1460.14 Q822.424 1460.14 819.664 1461 Q816.93 1461.86 813.805 1463.61 L813.805 1458.29 Q816.982 1457.02 819.742 1456.37 Q822.502 1455.72 824.794 1455.72 Q830.836 1455.72 834.429 1458.74 Q838.023 1461.76 838.023 1466.81 Q838.023 1469.21 837.112 1471.37 Q836.226 1473.5 833.857 1476.42 Q833.205 1477.17 829.716 1480.79 Q826.226 1484.39 819.872 1490.87 Z\" fill=\"#000000\" fill-rule=\"nonzero\" fill-opacity=\"1\" /><path clip-path=\"url(#clip600)\" d=\"M1021.52 1474.34 Q1025.3 1475.14 1027.41 1477.7 Q1029.55 1480.25 1029.55 1484 Q1029.55 1489.75 1025.59 1492.9 Q1021.63 1496.06 1014.34 1496.06 Q1011.89 1496.06 1009.29 1495.56 Q1006.71 1495.09 1003.95 1494.13 L1003.95 1489.05 Q1006.13 1490.33 1008.74 1490.98 Q1011.34 1491.63 1014.18 1491.63 Q1019.13 1491.63 1021.71 1489.67 Q1024.31 1487.72 1024.31 1484 Q1024.31 1480.56 1021.89 1478.63 Q1019.49 1476.68 1015.2 1476.68 L1010.67 1476.68 L1010.67 1472.36 L1015.41 1472.36 Q1019.29 1472.36 1021.34 1470.82 Q1023.4 1469.26 1023.4 1466.34 Q1023.4 1463.35 1021.26 1461.76 Q1019.16 1460.14 1015.2 1460.14 Q1013.04 1460.14 1010.56 1460.61 Q1008.09 1461.08 1005.12 1462.07 L1005.12 1457.38 Q1008.11 1456.55 1010.72 1456.13 Q1013.35 1455.72 1015.67 1455.72 Q1021.66 1455.72 1025.14 1458.45 Q1028.63 1461.16 1028.63 1465.79 Q1028.63 1469.02 1026.79 1471.26 Q1024.94 1473.48 1021.52 1474.34 Z\" fill=\"#000000\" fill-rule=\"nonzero\" fill-opacity=\"1\" /><path clip-path=\"url(#clip600)\" d=\"M1210.99 1461 L1197.71 1481.76 L1210.99 1481.76 L1210.99 1461 M1209.61 1456.42 L1216.22 1456.42 L1216.22 1481.76 L1221.77 1481.76 L1221.77 1486.13 L1216.22 1486.13 L1216.22 1495.3 L1210.99 1495.3 L1210.99 1486.13 L1193.44 1486.13 L1193.44 1481.06 L1209.61 1456.42 Z\" fill=\"#000000\" fill-rule=\"nonzero\" fill-opacity=\"1\" /><path clip-path=\"url(#clip600)\" d=\"M1387.53 1456.42 L1408.18 1456.42 L1408.18 1460.85 L1392.34 1460.85 L1392.34 1470.38 Q1393.49 1469.99 1394.64 1469.81 Q1395.78 1469.6 1396.93 1469.6 Q1403.44 1469.6 1407.24 1473.16 Q1411.04 1476.73 1411.04 1482.83 Q1411.04 1489.1 1407.14 1492.59 Q1403.23 1496.06 1396.12 1496.06 Q1393.67 1496.06 1391.12 1495.64 Q1388.59 1495.22 1385.89 1494.39 L1385.89 1489.1 Q1388.23 1490.38 1390.73 1491 Q1393.23 1491.63 1396.02 1491.63 Q1400.52 1491.63 1403.15 1489.26 Q1405.78 1486.89 1405.78 1482.83 Q1405.78 1478.76 1403.15 1476.39 Q1400.52 1474.02 1396.02 1474.02 Q1393.91 1474.02 1391.8 1474.49 Q1389.71 1474.96 1387.53 1475.95 L1387.53 1456.42 Z\" fill=\"#000000\" fill-rule=\"nonzero\" fill-opacity=\"1\" /><path clip-path=\"url(#clip600)\" d=\"M1589.78 1473.76 Q1586.24 1473.76 1584.15 1476.19 Q1582.1 1478.61 1582.1 1482.83 Q1582.1 1487.02 1584.15 1489.47 Q1586.24 1491.89 1589.78 1491.89 Q1593.32 1491.89 1595.38 1489.47 Q1597.46 1487.02 1597.46 1482.83 Q1597.46 1478.61 1595.38 1476.19 Q1593.32 1473.76 1589.78 1473.76 M1600.22 1457.28 L1600.22 1462.07 Q1598.24 1461.13 1596.21 1460.64 Q1594.2 1460.14 1592.23 1460.14 Q1587.02 1460.14 1584.26 1463.66 Q1581.52 1467.17 1581.13 1474.28 Q1582.67 1472.02 1584.99 1470.82 Q1587.3 1469.6 1590.09 1469.6 Q1595.95 1469.6 1599.33 1473.16 Q1602.75 1476.71 1602.75 1482.83 Q1602.75 1488.82 1599.2 1492.44 Q1595.66 1496.06 1589.78 1496.06 Q1583.03 1496.06 1579.47 1490.9 Q1575.9 1485.72 1575.9 1475.9 Q1575.9 1466.68 1580.27 1461.21 Q1584.65 1455.72 1592.02 1455.72 Q1594 1455.72 1596 1456.11 Q1598.03 1456.5 1600.22 1457.28 Z\" fill=\"#000000\" fill-rule=\"nonzero\" fill-opacity=\"1\" /><path clip-path=\"url(#clip600)\" d=\"M1767.68 1456.42 L1792.68 1456.42 L1792.68 1458.66 L1778.57 1495.3 L1773.07 1495.3 L1786.35 1460.85 L1767.68 1460.85 L1767.68 1456.42 Z\" fill=\"#000000\" fill-rule=\"nonzero\" fill-opacity=\"1\" /><path clip-path=\"url(#clip600)\" d=\"M1971.04 1476.84 Q1967.29 1476.84 1965.13 1478.84 Q1962.99 1480.85 1962.99 1484.36 Q1962.99 1487.88 1965.13 1489.88 Q1967.29 1491.89 1971.04 1491.89 Q1974.79 1491.89 1976.95 1489.88 Q1979.11 1487.85 1979.11 1484.36 Q1979.11 1480.85 1976.95 1478.84 Q1974.81 1476.84 1971.04 1476.84 M1965.78 1474.6 Q1962.39 1473.76 1960.49 1471.45 Q1958.62 1469.13 1958.62 1465.79 Q1958.62 1461.13 1961.92 1458.43 Q1965.26 1455.72 1971.04 1455.72 Q1976.85 1455.72 1980.15 1458.43 Q1983.46 1461.13 1983.46 1465.79 Q1983.46 1469.13 1981.56 1471.45 Q1979.68 1473.76 1976.33 1474.6 Q1980.13 1475.48 1982.24 1478.06 Q1984.37 1480.64 1984.37 1484.36 Q1984.37 1490.01 1980.91 1493.03 Q1977.47 1496.06 1971.04 1496.06 Q1964.61 1496.06 1961.14 1493.03 Q1957.71 1490.01 1957.71 1484.36 Q1957.71 1480.64 1959.84 1478.06 Q1961.98 1475.48 1965.78 1474.6 M1963.85 1466.29 Q1963.85 1469.31 1965.73 1471 Q1967.63 1472.7 1971.04 1472.7 Q1974.42 1472.7 1976.33 1471 Q1978.25 1469.31 1978.25 1466.29 Q1978.25 1463.27 1976.33 1461.58 Q1974.42 1459.88 1971.04 1459.88 Q1967.63 1459.88 1965.73 1461.58 Q1963.85 1463.27 1963.85 1466.29 Z\" fill=\"#000000\" fill-rule=\"nonzero\" fill-opacity=\"1\" /><path clip-path=\"url(#clip600)\" d=\"M2150.99 1494.49 L2150.99 1489.7 Q2152.97 1490.64 2155 1491.13 Q2157.03 1491.63 2158.98 1491.63 Q2164.19 1491.63 2166.92 1488.14 Q2169.68 1484.62 2170.07 1477.49 Q2168.56 1479.73 2166.25 1480.92 Q2163.93 1482.12 2161.12 1482.12 Q2155.28 1482.12 2151.87 1478.61 Q2148.49 1475.07 2148.49 1468.95 Q2148.49 1462.96 2152.03 1459.34 Q2155.57 1455.72 2161.45 1455.72 Q2168.2 1455.72 2171.74 1460.9 Q2175.31 1466.06 2175.31 1475.9 Q2175.31 1485.09 2170.93 1490.59 Q2166.58 1496.06 2159.22 1496.06 Q2157.24 1496.06 2155.2 1495.66 Q2153.17 1495.27 2150.99 1494.49 M2161.45 1478.01 Q2165 1478.01 2167.05 1475.59 Q2169.14 1473.16 2169.14 1468.95 Q2169.14 1464.75 2167.05 1462.33 Q2165 1459.88 2161.45 1459.88 Q2157.91 1459.88 2155.83 1462.33 Q2153.77 1464.75 2153.77 1468.95 Q2153.77 1473.16 2155.83 1475.59 Q2157.91 1478.01 2161.45 1478.01 Z\" fill=\"#000000\" fill-rule=\"nonzero\" fill-opacity=\"1\" /><path clip-path=\"url(#clip600)\" d=\"M2324.28 1490.87 L2332.87 1490.87 L2332.87 1461.21 L2323.52 1463.09 L2323.52 1458.29 L2332.82 1456.42 L2338.08 1456.42 L2338.08 1490.87 L2346.68 1490.87 L2346.68 1495.3 L2324.28 1495.3 L2324.28 1490.87 Z\" fill=\"#000000\" fill-rule=\"nonzero\" fill-opacity=\"1\" /><path clip-path=\"url(#clip600)\" d=\"M2368.55 1459.88 Q2364.49 1459.88 2362.43 1463.89 Q2360.4 1467.88 2360.4 1475.9 Q2360.4 1483.89 2362.43 1487.9 Q2364.49 1491.89 2368.55 1491.89 Q2372.64 1491.89 2374.67 1487.9 Q2376.73 1483.89 2376.73 1475.9 Q2376.73 1467.88 2374.67 1463.89 Q2372.64 1459.88 2368.55 1459.88 M2368.55 1455.72 Q2375.09 1455.72 2378.52 1460.9 Q2381.99 1466.06 2381.99 1475.9 Q2381.99 1485.72 2378.52 1490.9 Q2375.09 1496.06 2368.55 1496.06 Q2362.01 1496.06 2358.55 1490.9 Q2355.11 1485.72 2355.11 1475.9 Q2355.11 1466.06 2358.55 1460.9 Q2362.01 1455.72 2368.55 1455.72 Z\" fill=\"#000000\" fill-rule=\"nonzero\" fill-opacity=\"1\" /><path clip-path=\"url(#clip600)\" d=\"M1290.09 1527.96 L1294.91 1527.96 L1294.91 1551.89 L1309.21 1539.31 L1315.33 1539.31 L1299.86 1552.96 L1315.98 1568.48 L1309.73 1568.48 L1294.91 1554.23 L1294.91 1568.48 L1290.09 1568.48 L1290.09 1527.96 Z\" fill=\"#000000\" fill-rule=\"nonzero\" fill-opacity=\"1\" /><polyline clip-path=\"url(#clip602)\" style=\"stroke:#000000; stroke-linecap:round; stroke-linejoin:round; stroke-width:2; stroke-opacity:0.1; fill:none\" points=\"253.312,1427.5 2352.76,1427.5 \"/>\n",
       "<polyline clip-path=\"url(#clip602)\" style=\"stroke:#000000; stroke-linecap:round; stroke-linejoin:round; stroke-width:2; stroke-opacity:0.1; fill:none\" points=\"253.312,1137.98 2352.76,1137.98 \"/>\n",
       "<polyline clip-path=\"url(#clip602)\" style=\"stroke:#000000; stroke-linecap:round; stroke-linejoin:round; stroke-width:2; stroke-opacity:0.1; fill:none\" points=\"253.312,848.452 2352.76,848.452 \"/>\n",
       "<polyline clip-path=\"url(#clip602)\" style=\"stroke:#000000; stroke-linecap:round; stroke-linejoin:round; stroke-width:2; stroke-opacity:0.1; fill:none\" points=\"253.312,558.929 2352.76,558.929 \"/>\n",
       "<polyline clip-path=\"url(#clip602)\" style=\"stroke:#000000; stroke-linecap:round; stroke-linejoin:round; stroke-width:2; stroke-opacity:0.1; fill:none\" points=\"253.312,269.405 2352.76,269.405 \"/>\n",
       "<polyline clip-path=\"url(#clip600)\" style=\"stroke:#000000; stroke-linecap:round; stroke-linejoin:round; stroke-width:4; stroke-opacity:1; fill:none\" points=\"253.312,1427.5 253.312,47.2441 \"/>\n",
       "<polyline clip-path=\"url(#clip600)\" style=\"stroke:#000000; stroke-linecap:round; stroke-linejoin:round; stroke-width:4; stroke-opacity:1; fill:none\" points=\"253.312,1427.5 272.21,1427.5 \"/>\n",
       "<polyline clip-path=\"url(#clip600)\" style=\"stroke:#000000; stroke-linecap:round; stroke-linejoin:round; stroke-width:4; stroke-opacity:1; fill:none\" points=\"253.312,1137.98 272.21,1137.98 \"/>\n",
       "<polyline clip-path=\"url(#clip600)\" style=\"stroke:#000000; stroke-linecap:round; stroke-linejoin:round; stroke-width:4; stroke-opacity:1; fill:none\" points=\"253.312,848.452 272.21,848.452 \"/>\n",
       "<polyline clip-path=\"url(#clip600)\" style=\"stroke:#000000; stroke-linecap:round; stroke-linejoin:round; stroke-width:4; stroke-opacity:1; fill:none\" points=\"253.312,558.929 272.21,558.929 \"/>\n",
       "<polyline clip-path=\"url(#clip600)\" style=\"stroke:#000000; stroke-linecap:round; stroke-linejoin:round; stroke-width:4; stroke-opacity:1; fill:none\" points=\"253.312,269.405 272.21,269.405 \"/>\n",
       "<path clip-path=\"url(#clip600)\" d=\"M119.058 1438.74 Q114.995 1438.74 112.938 1442.75 Q110.907 1446.73 110.907 1454.75 Q110.907 1462.75 112.938 1466.76 Q114.995 1470.74 119.058 1470.74 Q123.146 1470.74 125.177 1466.76 Q127.235 1462.75 127.235 1454.75 Q127.235 1446.73 125.177 1442.75 Q123.146 1438.74 119.058 1438.74 M119.058 1434.57 Q125.594 1434.57 129.031 1439.75 Q132.495 1444.91 132.495 1454.75 Q132.495 1464.57 129.031 1469.75 Q125.594 1474.91 119.058 1474.91 Q112.521 1474.91 109.058 1469.75 Q105.62 1464.57 105.62 1454.75 Q105.62 1444.91 109.058 1439.75 Q112.521 1434.57 119.058 1434.57 Z\" fill=\"#000000\" fill-rule=\"nonzero\" fill-opacity=\"1\" /><path clip-path=\"url(#clip600)\" d=\"M141.74 1467.54 L147.235 1467.54 L147.235 1474.16 L141.74 1474.16 L141.74 1467.54 Z\" fill=\"#000000\" fill-rule=\"nonzero\" fill-opacity=\"1\" /><path clip-path=\"url(#clip600)\" d=\"M169.943 1438.74 Q165.88 1438.74 163.823 1442.75 Q161.792 1446.73 161.792 1454.75 Q161.792 1462.75 163.823 1466.76 Q165.88 1470.74 169.943 1470.74 Q174.031 1470.74 176.062 1466.76 Q178.12 1462.75 178.12 1454.75 Q178.12 1446.73 176.062 1442.75 Q174.031 1438.74 169.943 1438.74 M169.943 1434.57 Q176.479 1434.57 179.917 1439.75 Q183.38 1444.91 183.38 1454.75 Q183.38 1464.57 179.917 1469.75 Q176.479 1474.91 169.943 1474.91 Q163.406 1474.91 159.943 1469.75 Q156.505 1464.57 156.505 1454.75 Q156.505 1444.91 159.943 1439.75 Q163.406 1434.57 169.943 1434.57 Z\" fill=\"#000000\" fill-rule=\"nonzero\" fill-opacity=\"1\" /><path clip-path=\"url(#clip600)\" d=\"M203.875 1438.74 Q199.812 1438.74 197.755 1442.75 Q195.724 1446.73 195.724 1454.75 Q195.724 1462.75 197.755 1466.76 Q199.812 1470.74 203.875 1470.74 Q207.963 1470.74 209.995 1466.76 Q212.052 1462.75 212.052 1454.75 Q212.052 1446.73 209.995 1442.75 Q207.963 1438.74 203.875 1438.74 M203.875 1434.57 Q210.411 1434.57 213.849 1439.75 Q217.312 1444.91 217.312 1454.75 Q217.312 1464.57 213.849 1469.75 Q210.411 1474.91 203.875 1474.91 Q197.338 1474.91 193.875 1469.75 Q190.437 1464.57 190.437 1454.75 Q190.437 1444.91 193.875 1439.75 Q197.338 1434.57 203.875 1434.57 Z\" fill=\"#000000\" fill-rule=\"nonzero\" fill-opacity=\"1\" /><path clip-path=\"url(#clip600)\" d=\"M120.177 1149.22 Q116.115 1149.22 114.058 1153.23 Q112.026 1157.21 112.026 1165.23 Q112.026 1173.23 114.058 1177.24 Q116.115 1181.22 120.177 1181.22 Q124.266 1181.22 126.297 1177.24 Q128.354 1173.23 128.354 1165.23 Q128.354 1157.21 126.297 1153.23 Q124.266 1149.22 120.177 1149.22 M120.177 1145.05 Q126.714 1145.05 130.151 1150.23 Q133.615 1155.39 133.615 1165.23 Q133.615 1175.05 130.151 1180.23 Q126.714 1185.39 120.177 1185.39 Q113.641 1185.39 110.177 1180.23 Q106.74 1175.05 106.74 1165.23 Q106.74 1155.39 110.177 1150.23 Q113.641 1145.05 120.177 1145.05 Z\" fill=\"#000000\" fill-rule=\"nonzero\" fill-opacity=\"1\" /><path clip-path=\"url(#clip600)\" d=\"M142.86 1178.02 L148.354 1178.02 L148.354 1184.63 L142.86 1184.63 L142.86 1178.02 Z\" fill=\"#000000\" fill-rule=\"nonzero\" fill-opacity=\"1\" /><path clip-path=\"url(#clip600)\" d=\"M171.063 1149.22 Q167 1149.22 164.943 1153.23 Q162.912 1157.21 162.912 1165.23 Q162.912 1173.23 164.943 1177.24 Q167 1181.22 171.063 1181.22 Q175.151 1181.22 177.182 1177.24 Q179.24 1173.23 179.24 1165.23 Q179.24 1157.21 177.182 1153.23 Q175.151 1149.22 171.063 1149.22 M171.063 1145.05 Q177.599 1145.05 181.036 1150.23 Q184.5 1155.39 184.5 1165.23 Q184.5 1175.05 181.036 1180.23 Q177.599 1185.39 171.063 1185.39 Q164.526 1185.39 161.063 1180.23 Q157.625 1175.05 157.625 1165.23 Q157.625 1155.39 161.063 1150.23 Q164.526 1145.05 171.063 1145.05 Z\" fill=\"#000000\" fill-rule=\"nonzero\" fill-opacity=\"1\" /><path clip-path=\"url(#clip600)\" d=\"M193.797 1145.75 L214.448 1145.75 L214.448 1150.18 L198.614 1150.18 L198.614 1159.71 Q199.76 1159.32 200.906 1159.14 Q202.052 1158.93 203.198 1158.93 Q209.708 1158.93 213.51 1162.5 Q217.312 1166.06 217.312 1172.16 Q217.312 1178.43 213.406 1181.92 Q209.5 1185.39 202.39 1185.39 Q199.943 1185.39 197.39 1184.97 Q194.864 1184.55 192.156 1183.72 L192.156 1178.43 Q194.5 1179.71 197 1180.34 Q199.5 1180.96 202.286 1180.96 Q206.791 1180.96 209.422 1178.59 Q212.052 1176.22 212.052 1172.16 Q212.052 1168.1 209.422 1165.73 Q206.791 1163.36 202.286 1163.36 Q200.177 1163.36 198.068 1163.82 Q195.984 1164.29 193.797 1165.28 L193.797 1145.75 Z\" fill=\"#000000\" fill-rule=\"nonzero\" fill-opacity=\"1\" /><path clip-path=\"url(#clip600)\" d=\"M119.058 859.692 Q114.995 859.692 112.938 863.702 Q110.907 867.687 110.907 875.708 Q110.907 883.702 112.938 887.713 Q114.995 891.697 119.058 891.697 Q123.146 891.697 125.177 887.713 Q127.235 883.702 127.235 875.708 Q127.235 867.687 125.177 863.702 Q123.146 859.692 119.058 859.692 M119.058 855.525 Q125.594 855.525 129.031 860.708 Q132.495 865.864 132.495 875.708 Q132.495 885.525 129.031 890.707 Q125.594 895.864 119.058 895.864 Q112.521 895.864 109.058 890.707 Q105.62 885.525 105.62 875.708 Q105.62 865.864 109.058 860.708 Q112.521 855.525 119.058 855.525 Z\" fill=\"#000000\" fill-rule=\"nonzero\" fill-opacity=\"1\" /><path clip-path=\"url(#clip600)\" d=\"M141.74 888.494 L147.235 888.494 L147.235 895.108 L141.74 895.108 L141.74 888.494 Z\" fill=\"#000000\" fill-rule=\"nonzero\" fill-opacity=\"1\" /><path clip-path=\"url(#clip600)\" d=\"M159.604 890.681 L168.198 890.681 L168.198 861.02 L158.849 862.895 L158.849 858.103 L168.146 856.228 L173.406 856.228 L173.406 890.681 L182 890.681 L182 895.108 L159.604 895.108 L159.604 890.681 Z\" fill=\"#000000\" fill-rule=\"nonzero\" fill-opacity=\"1\" /><path clip-path=\"url(#clip600)\" d=\"M203.875 859.692 Q199.812 859.692 197.755 863.702 Q195.724 867.687 195.724 875.708 Q195.724 883.702 197.755 887.713 Q199.812 891.697 203.875 891.697 Q207.963 891.697 209.995 887.713 Q212.052 883.702 212.052 875.708 Q212.052 867.687 209.995 863.702 Q207.963 859.692 203.875 859.692 M203.875 855.525 Q210.411 855.525 213.849 860.708 Q217.312 865.864 217.312 875.708 Q217.312 885.525 213.849 890.707 Q210.411 895.864 203.875 895.864 Q197.338 895.864 193.875 890.707 Q190.437 885.525 190.437 875.708 Q190.437 865.864 193.875 860.708 Q197.338 855.525 203.875 855.525 Z\" fill=\"#000000\" fill-rule=\"nonzero\" fill-opacity=\"1\" /><path clip-path=\"url(#clip600)\" d=\"M120.177 570.168 Q116.115 570.168 114.058 574.179 Q112.026 578.163 112.026 586.184 Q112.026 594.179 114.058 598.189 Q116.115 602.173 120.177 602.173 Q124.266 602.173 126.297 598.189 Q128.354 594.179 128.354 586.184 Q128.354 578.163 126.297 574.179 Q124.266 570.168 120.177 570.168 M120.177 566.002 Q126.714 566.002 130.151 571.184 Q133.615 576.34 133.615 586.184 Q133.615 596.002 130.151 601.184 Q126.714 606.34 120.177 606.34 Q113.641 606.34 110.177 601.184 Q106.74 596.002 106.74 586.184 Q106.74 576.34 110.177 571.184 Q113.641 566.002 120.177 566.002 Z\" fill=\"#000000\" fill-rule=\"nonzero\" fill-opacity=\"1\" /><path clip-path=\"url(#clip600)\" d=\"M142.86 598.97 L148.354 598.97 L148.354 605.585 L142.86 605.585 L142.86 598.97 Z\" fill=\"#000000\" fill-rule=\"nonzero\" fill-opacity=\"1\" /><path clip-path=\"url(#clip600)\" d=\"M160.724 601.158 L169.318 601.158 L169.318 571.496 L159.969 573.371 L159.969 568.58 L169.266 566.705 L174.526 566.705 L174.526 601.158 L183.12 601.158 L183.12 605.585 L160.724 605.585 L160.724 601.158 Z\" fill=\"#000000\" fill-rule=\"nonzero\" fill-opacity=\"1\" /><path clip-path=\"url(#clip600)\" d=\"M193.797 566.705 L214.448 566.705 L214.448 571.132 L198.614 571.132 L198.614 580.663 Q199.76 580.272 200.906 580.09 Q202.052 579.882 203.198 579.882 Q209.708 579.882 213.51 583.45 Q217.312 587.017 217.312 593.111 Q217.312 599.387 213.406 602.877 Q209.5 606.34 202.39 606.34 Q199.943 606.34 197.39 605.923 Q194.864 605.507 192.156 604.673 L192.156 599.387 Q194.5 600.663 197 601.288 Q199.5 601.913 202.286 601.913 Q206.791 601.913 209.422 599.543 Q212.052 597.173 212.052 593.111 Q212.052 589.048 209.422 586.679 Q206.791 584.309 202.286 584.309 Q200.177 584.309 198.068 584.778 Q195.984 585.246 193.797 586.236 L193.797 566.705 Z\" fill=\"#000000\" fill-rule=\"nonzero\" fill-opacity=\"1\" /><path clip-path=\"url(#clip600)\" d=\"M119.058 280.645 Q114.995 280.645 112.938 284.655 Q110.907 288.639 110.907 296.66 Q110.907 304.655 112.938 308.665 Q114.995 312.65 119.058 312.65 Q123.146 312.65 125.177 308.665 Q127.235 304.655 127.235 296.66 Q127.235 288.639 125.177 284.655 Q123.146 280.645 119.058 280.645 M119.058 276.478 Q125.594 276.478 129.031 281.66 Q132.495 286.817 132.495 296.66 Q132.495 306.478 129.031 311.66 Q125.594 316.816 119.058 316.816 Q112.521 316.816 109.058 311.66 Q105.62 306.478 105.62 296.66 Q105.62 286.817 109.058 281.66 Q112.521 276.478 119.058 276.478 Z\" fill=\"#000000\" fill-rule=\"nonzero\" fill-opacity=\"1\" /><path clip-path=\"url(#clip600)\" d=\"M141.74 309.447 L147.235 309.447 L147.235 316.061 L141.74 316.061 L141.74 309.447 Z\" fill=\"#000000\" fill-rule=\"nonzero\" fill-opacity=\"1\" /><path clip-path=\"url(#clip600)\" d=\"M163.224 311.634 L181.583 311.634 L181.583 316.061 L156.896 316.061 L156.896 311.634 Q159.891 308.535 165.047 303.327 Q170.229 298.092 171.557 296.582 Q174.083 293.744 175.073 291.79 Q176.089 289.811 176.089 287.91 Q176.089 284.811 173.901 282.858 Q171.74 280.905 168.25 280.905 Q165.776 280.905 163.016 281.764 Q160.281 282.624 157.156 284.369 L157.156 279.056 Q160.333 277.78 163.094 277.129 Q165.854 276.478 168.146 276.478 Q174.187 276.478 177.781 279.499 Q181.375 282.52 181.375 287.572 Q181.375 289.968 180.464 292.129 Q179.578 294.264 177.208 297.181 Q176.557 297.936 173.068 301.556 Q169.578 305.15 163.224 311.634 Z\" fill=\"#000000\" fill-rule=\"nonzero\" fill-opacity=\"1\" /><path clip-path=\"url(#clip600)\" d=\"M203.875 280.645 Q199.812 280.645 197.755 284.655 Q195.724 288.639 195.724 296.66 Q195.724 304.655 197.755 308.665 Q199.812 312.65 203.875 312.65 Q207.963 312.65 209.995 308.665 Q212.052 304.655 212.052 296.66 Q212.052 288.639 209.995 284.655 Q207.963 280.645 203.875 280.645 M203.875 276.478 Q210.411 276.478 213.849 281.66 Q217.312 286.817 217.312 296.66 Q217.312 306.478 213.849 311.66 Q210.411 316.816 203.875 316.816 Q197.338 316.816 193.875 311.66 Q190.437 306.478 190.437 296.66 Q190.437 286.817 193.875 281.66 Q197.338 276.478 203.875 276.478 Z\" fill=\"#000000\" fill-rule=\"nonzero\" fill-opacity=\"1\" /><path clip-path=\"url(#clip600)\" d=\"M23.3991 209.928 L38.0083 209.928 L38.0083 203.314 Q38.0083 199.642 36.1073 197.637 Q34.2063 195.631 30.6907 195.631 Q27.2011 195.631 25.3001 197.637 Q23.3991 199.642 23.3991 203.314 L23.3991 209.928 M19.0762 215.189 L19.0762 203.314 Q19.0762 196.777 22.0449 193.444 Q24.9876 190.085 30.6907 190.085 Q36.4459 190.085 39.3885 193.444 Q42.3312 196.777 42.3312 203.314 L42.3312 209.928 L57.9562 209.928 L57.9562 215.189 L19.0762 215.189 Z\" fill=\"#000000\" fill-rule=\"nonzero\" fill-opacity=\"1\" /><path clip-path=\"url(#clip600)\" d=\"M17.4876 171.725 Q23.4772 175.215 29.3365 176.908 Q35.1959 178.6 41.2115 178.6 Q47.227 178.6 53.1385 176.908 Q59.0239 175.189 64.9874 171.725 L64.9874 175.892 Q58.8676 179.798 52.9562 181.751 Q47.0448 183.678 41.2115 183.678 Q35.4042 183.678 29.5188 181.751 Q23.6334 179.824 17.4876 175.892 L17.4876 171.725 Z\" fill=\"#000000\" fill-rule=\"nonzero\" fill-opacity=\"1\" /><path clip-path=\"url(#clip600)\" d=\"M19.0762 162.22 L19.0762 156.96 L35.5084 156.96 L19.0762 139.512 L19.0762 132.741 L37.2011 152.038 L57.9562 131.361 L57.9562 138.288 L39.2323 156.96 L57.9562 156.96 L57.9562 162.22 L19.0762 162.22 Z\" fill=\"#000000\" fill-rule=\"nonzero\" fill-opacity=\"1\" /><path clip-path=\"url(#clip600)\" d=\"M17.4876 128.21 L17.4876 124.043 Q23.6334 120.137 29.5188 118.21 Q35.4042 116.257 41.2115 116.257 Q47.0448 116.257 52.9562 118.21 Q58.8676 120.137 64.9874 124.043 L64.9874 128.21 Q59.0239 124.746 53.1385 123.054 Q47.227 121.335 41.2115 121.335 Q35.1959 121.335 29.3365 123.054 Q23.4772 124.746 17.4876 128.21 Z\" fill=\"#000000\" fill-rule=\"nonzero\" fill-opacity=\"1\" /><path clip-path=\"url(#clip602)\" d=\"M367.827 1412.83 L367.827 1427.5 L520.514 1427.5 L520.514 1412.83 L367.827 1412.83 L367.827 1412.83  Z\" fill=\"#009af9\" fill-rule=\"evenodd\" fill-opacity=\"1\"/>\n",
       "<polyline clip-path=\"url(#clip602)\" style=\"stroke:#000000; stroke-linecap:round; stroke-linejoin:round; stroke-width:4; stroke-opacity:1; fill:none\" points=\"367.827,1412.83 367.827,1427.5 520.514,1427.5 520.514,1412.83 367.827,1412.83 \"/>\n",
       "<path clip-path=\"url(#clip602)\" d=\"M558.686 1307.5 L558.686 1427.5 L711.373 1427.5 L711.373 1307.5 L558.686 1307.5 L558.686 1307.5  Z\" fill=\"#009af9\" fill-rule=\"evenodd\" fill-opacity=\"1\"/>\n",
       "<polyline clip-path=\"url(#clip602)\" style=\"stroke:#000000; stroke-linecap:round; stroke-linejoin:round; stroke-width:4; stroke-opacity:1; fill:none\" points=\"558.686,1307.5 558.686,1427.5 711.373,1427.5 711.373,1307.5 558.686,1307.5 \"/>\n",
       "<path clip-path=\"url(#clip602)\" d=\"M749.544 985.672 L749.544 1427.5 L902.231 1427.5 L902.231 985.672 L749.544 985.672 L749.544 985.672  Z\" fill=\"#009af9\" fill-rule=\"evenodd\" fill-opacity=\"1\"/>\n",
       "<polyline clip-path=\"url(#clip602)\" style=\"stroke:#000000; stroke-linecap:round; stroke-linejoin:round; stroke-width:4; stroke-opacity:1; fill:none\" points=\"749.544,985.672 749.544,1427.5 902.231,1427.5 902.231,985.672 749.544,985.672 \"/>\n",
       "<path clip-path=\"url(#clip602)\" d=\"M940.403 463.512 L940.403 1427.5 L1093.09 1427.5 L1093.09 463.512 L940.403 463.512 L940.403 463.512  Z\" fill=\"#009af9\" fill-rule=\"evenodd\" fill-opacity=\"1\"/>\n",
       "<polyline clip-path=\"url(#clip602)\" style=\"stroke:#000000; stroke-linecap:round; stroke-linejoin:round; stroke-width:4; stroke-opacity:1; fill:none\" points=\"940.403,463.512 940.403,1427.5 1093.09,1427.5 1093.09,463.512 940.403,463.512 \"/>\n",
       "<path clip-path=\"url(#clip602)\" d=\"M1131.26 47.2441 L1131.26 1427.5 L1283.95 1427.5 L1283.95 47.2441 L1131.26 47.2441 L1131.26 47.2441  Z\" fill=\"#009af9\" fill-rule=\"evenodd\" fill-opacity=\"1\"/>\n",
       "<polyline clip-path=\"url(#clip602)\" style=\"stroke:#000000; stroke-linecap:round; stroke-linejoin:round; stroke-width:4; stroke-opacity:1; fill:none\" points=\"1131.26,47.2441 1131.26,1427.5 1283.95,1427.5 1283.95,47.2441 1131.26,47.2441 \"/>\n",
       "<path clip-path=\"url(#clip602)\" d=\"M1322.12 72.3397 L1322.12 1427.5 L1474.81 1427.5 L1474.81 72.3397 L1322.12 72.3397 L1322.12 72.3397  Z\" fill=\"#009af9\" fill-rule=\"evenodd\" fill-opacity=\"1\"/>\n",
       "<polyline clip-path=\"url(#clip602)\" style=\"stroke:#000000; stroke-linecap:round; stroke-linejoin:round; stroke-width:4; stroke-opacity:1; fill:none\" points=\"1322.12,72.3397 1322.12,1427.5 1474.81,1427.5 1474.81,72.3397 1322.12,72.3397 \"/>\n",
       "<path clip-path=\"url(#clip602)\" d=\"M1512.98 503.527 L1512.98 1427.5 L1665.67 1427.5 L1665.67 503.527 L1512.98 503.527 L1512.98 503.527  Z\" fill=\"#009af9\" fill-rule=\"evenodd\" fill-opacity=\"1\"/>\n",
       "<polyline clip-path=\"url(#clip602)\" style=\"stroke:#000000; stroke-linecap:round; stroke-linejoin:round; stroke-width:4; stroke-opacity:1; fill:none\" points=\"1512.98,503.527 1512.98,1427.5 1665.67,1427.5 1665.67,503.527 1512.98,503.527 \"/>\n",
       "<path clip-path=\"url(#clip602)\" d=\"M1703.84 995.513 L1703.84 1427.5 L1856.52 1427.5 L1856.52 995.513 L1703.84 995.513 L1703.84 995.513  Z\" fill=\"#009af9\" fill-rule=\"evenodd\" fill-opacity=\"1\"/>\n",
       "<polyline clip-path=\"url(#clip602)\" style=\"stroke:#000000; stroke-linecap:round; stroke-linejoin:round; stroke-width:4; stroke-opacity:1; fill:none\" points=\"1703.84,995.513 1703.84,1427.5 1856.52,1427.5 1856.52,995.513 1703.84,995.513 \"/>\n",
       "<path clip-path=\"url(#clip602)\" d=\"M1894.7 1294.96 L1894.7 1427.5 L2047.38 1427.5 L2047.38 1294.96 L1894.7 1294.96 L1894.7 1294.96  Z\" fill=\"#009af9\" fill-rule=\"evenodd\" fill-opacity=\"1\"/>\n",
       "<polyline clip-path=\"url(#clip602)\" style=\"stroke:#000000; stroke-linecap:round; stroke-linejoin:round; stroke-width:4; stroke-opacity:1; fill:none\" points=\"1894.7,1294.96 1894.7,1427.5 2047.38,1427.5 2047.38,1294.96 1894.7,1294.96 \"/>\n",
       "<path clip-path=\"url(#clip602)\" d=\"M2085.55 1403.4 L2085.55 1427.5 L2238.24 1427.5 L2238.24 1403.4 L2085.55 1403.4 L2085.55 1403.4  Z\" fill=\"#009af9\" fill-rule=\"evenodd\" fill-opacity=\"1\"/>\n",
       "<polyline clip-path=\"url(#clip602)\" style=\"stroke:#000000; stroke-linecap:round; stroke-linejoin:round; stroke-width:4; stroke-opacity:1; fill:none\" points=\"2085.55,1403.4 2085.55,1427.5 2238.24,1427.5 2238.24,1403.4 2085.55,1403.4 \"/>\n",
       "<path clip-path=\"url(#clip602)\" d=\"M2276.41 1425.53 L2276.41 1427.5 L2429.1 1427.5 L2429.1 1425.53 L2276.41 1425.53 L2276.41 1425.53  Z\" fill=\"#009af9\" fill-rule=\"evenodd\" fill-opacity=\"1\"/>\n",
       "<polyline clip-path=\"url(#clip602)\" style=\"stroke:#000000; stroke-linecap:round; stroke-linejoin:round; stroke-width:4; stroke-opacity:1; fill:none\" points=\"2276.41,1425.53 2276.41,1427.5 2429.1,1427.5 2429.1,1425.53 2276.41,1425.53 \"/>\n",
       "<circle clip-path=\"url(#clip602)\" style=\"fill:#009af9; stroke:none; fill-opacity:0\" cx=\"444.171\" cy=\"1412.83\" r=\"2\"/>\n",
       "<circle clip-path=\"url(#clip602)\" style=\"fill:#009af9; stroke:none; fill-opacity:0\" cx=\"635.029\" cy=\"1307.5\" r=\"2\"/>\n",
       "<circle clip-path=\"url(#clip602)\" style=\"fill:#009af9; stroke:none; fill-opacity:0\" cx=\"825.888\" cy=\"985.672\" r=\"2\"/>\n",
       "<circle clip-path=\"url(#clip602)\" style=\"fill:#009af9; stroke:none; fill-opacity:0\" cx=\"1016.75\" cy=\"463.512\" r=\"2\"/>\n",
       "<circle clip-path=\"url(#clip602)\" style=\"fill:#009af9; stroke:none; fill-opacity:0\" cx=\"1207.6\" cy=\"47.2441\" r=\"2\"/>\n",
       "<circle clip-path=\"url(#clip602)\" style=\"fill:#009af9; stroke:none; fill-opacity:0\" cx=\"1398.46\" cy=\"72.3397\" r=\"2\"/>\n",
       "<circle clip-path=\"url(#clip602)\" style=\"fill:#009af9; stroke:none; fill-opacity:0\" cx=\"1589.32\" cy=\"503.527\" r=\"2\"/>\n",
       "<circle clip-path=\"url(#clip602)\" style=\"fill:#009af9; stroke:none; fill-opacity:0\" cx=\"1780.18\" cy=\"995.513\" r=\"2\"/>\n",
       "<circle clip-path=\"url(#clip602)\" style=\"fill:#009af9; stroke:none; fill-opacity:0\" cx=\"1971.04\" cy=\"1294.96\" r=\"2\"/>\n",
       "<circle clip-path=\"url(#clip602)\" style=\"fill:#009af9; stroke:none; fill-opacity:0\" cx=\"2161.9\" cy=\"1403.4\" r=\"2\"/>\n",
       "<circle clip-path=\"url(#clip602)\" style=\"fill:#009af9; stroke:none; fill-opacity:0\" cx=\"2352.76\" cy=\"1425.53\" r=\"2\"/>\n",
       "</svg>\n"
      ]
     },
     "execution_count": 1226,
     "metadata": {},
     "output_type": "execute_result"
    }
   ],
   "source": [
    "bernulli(k, n, p) = comb(k, n) * p^k * (¬p)^(n-k)\n",
    "\n",
    "k = 0:n\n",
    "print(k)\n",
    "# При множестве независимых испытыний с одинаковой \n",
    "# вероятностью наступления, следует воспользоваться\n",
    "# формулой бернулли\n",
    "y = map(ki -> bernulli(ki, n, p), k)\n",
    "\n",
    "bar(k,y, legend = false, xaxis=(\"k\", (-1,n),k, font(9)), yaxis = (\"P(K)\", font(9, :top)))"
   ]
  },
  {
   "cell_type": "code",
   "execution_count": 1227,
   "id": "55ef7f09-fdee-4028-ae1e-e7a7f03afdbc",
   "metadata": {},
   "outputs": [
    {
     "name": "stdout",
     "output_type": "stream",
     "text": [
      "Наивероятнейшая частота: 5\n"
     ]
    }
   ],
   "source": [
    "_, probK = zip(y,1:n) |> maximum\n",
    "println(\"Наивероятнейшая частота: \" * string(probK))"
   ]
  },
  {
   "cell_type": "markdown",
   "id": "66708370-16a6-41d7-b1cc-ce7ee2df9333",
   "metadata": {},
   "source": [
    "### Задача 6"
   ]
  },
  {
   "cell_type": "code",
   "execution_count": 1228,
   "id": "7a292755-e9f3-4fa9-b8da-58e4ba4ead40",
   "metadata": {},
   "outputs": [
    {
     "data": {
      "text/plain": [
       "385"
      ]
     },
     "execution_count": 1228,
     "metadata": {},
     "output_type": "execute_result"
    }
   ],
   "source": [
    "n=500+10V\n",
    "p=0.4+V/100\n",
    "G=220+10V\n",
    "L=G-30\n",
    "M=G+20+V\n",
    "F=G-40+V\n",
    "R=G+15"
   ]
  },
  {
   "cell_type": "code",
   "execution_count": 1229,
   "id": "e074f2da-5b21-483c-8678-46b93db62e69",
   "metadata": {},
   "outputs": [
    {
     "name": "stdout",
     "output_type": "stream",
     "text": [
      "В каждом из 650 независимых испытаний событие А происходит с постоянной вероятностью 0.55. Найти вероятность того, что событие А происходит: а) точно 370 раз; б) точно 340 раз; в) меньше чем 405 и больше чем 345 раз; г) меньше чем 385 раз."
     ]
    }
   ],
   "source": [
    "print(\"В каждом из $n независимых испытаний событие А происходит с постоянной вероятностью $p. Найти вероятность того, что событие А происходит: а) точно $G раз; б) точно $L раз; в) меньше чем $M и больше чем $F раз; г) меньше чем $R раз.\")"
   ]
  },
  {
   "cell_type": "code",
   "execution_count": 1230,
   "id": "8977add9-130a-409b-9a10-1df390a344df",
   "metadata": {},
   "outputs": [
    {
     "name": "stdout",
     "output_type": "stream",
     "text": [
      "а = 0.019353580230519137\n",
      "б = 0.012142078246762033\n",
      "в = 0.8377256012161478\n",
      "г = 0.984926189219165\n"
     ]
    }
   ],
   "source": [
    "function localLaplace(m,n,p)\n",
    "    𝜑(x) = 1/√(2π) * ℯ^-(x^2/2)\n",
    "    div = √(¬p * n * p)\n",
    "    x = (m-n*p)/div\n",
    "    return 1/div*𝜑(x)\n",
    "end\n",
    "\n",
    "function integralLaplace(m1,m2,n,p)\n",
    "    𝜑(x) = erf(x/√2)/2\n",
    "    div = √(¬p * n * p)\n",
    "    x1 = (m1-n*p)/div\n",
    "    x2 = (m2-n*p)/div\n",
    "    return 𝜑(x1)-𝜑(x2)\n",
    "end\n",
    "\n",
    "# Аналогично предыдущей задаче, присутствует множество несовместных\n",
    "# событий с постоянной вероятностью, \n",
    "# для оптимизации вычислений при высокой частоте следует воспользоваться\n",
    "# локальной и интегральной теоремой лапласа\n",
    "a = localLaplace(G,n,p)\n",
    "b = localLaplace(L,n,p)\n",
    "c = integralLaplace(M, F, n, p)\n",
    "d = integralLaplace(R, 0, n, p)\n",
    "\n",
    "println(\"а = $a\")\n",
    "println(\"б = $b\")\n",
    "println(\"в = $c\")\n",
    "println(\"г = $d\")"
   ]
  }
 ],
 "metadata": {
  "kernelspec": {
   "display_name": "Julia 1.9.3",
   "language": "julia",
   "name": "julia-1.9"
  },
  "language_info": {
   "file_extension": ".jl",
   "mimetype": "application/julia",
   "name": "julia",
   "version": "1.9.3"
  }
 },
 "nbformat": 4,
 "nbformat_minor": 5
}
